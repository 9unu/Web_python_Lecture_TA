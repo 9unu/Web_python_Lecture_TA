{
 "cells": [
  {
   "cell_type": "markdown",
   "id": "9f5a5bf1",
   "metadata": {},
   "source": [
    "# 필요한 라이브러리 설치"
   ]
  },
  {
   "cell_type": "code",
   "execution_count": 344,
   "id": "a8cfc029",
   "metadata": {},
   "outputs": [],
   "source": [
    "# ! pip install pandas\n",
    "# ! pip install matplotlib\n",
    "# ! pip install bs4\n",
    "# ! pip install requests\n",
    "# ! pip install selenium\n",
    "# ! pip install numpy"
   ]
  },
  {
   "cell_type": "markdown",
   "id": "8a2aedfe",
   "metadata": {
    "slideshow": {
     "slide_type": "slide"
    }
   },
   "source": [
    "# 필요한 라이브러리 import "
   ]
  },
  {
   "cell_type": "code",
   "execution_count": 345,
   "id": "27158b5b",
   "metadata": {
    "slideshow": {
     "slide_type": "fragment"
    }
   },
   "outputs": [],
   "source": [
    "import pandas as pd  # 판다스 라이브러리를 pd라는 이름으로 선언\n",
    "import warnings      # 데이터 프레임 수정 시 나오는 경고 (무시)\n",
    "warnings.filterwarnings('ignore')\n",
    "\n",
    "from matplotlib import font_manager, rc  # 그래프 그릴 때 필요한 모듈\n",
    "font_path = \"C:/Windows/Fonts/NGULIM.TTF\" # 그래프에 한글 표시\n",
    "font = font_manager.FontProperties(fname=font_path).get_name()\n",
    "rc('font', family=font)"
   ]
  },
  {
   "cell_type": "markdown",
   "id": "30fc152d",
   "metadata": {
    "slideshow": {
     "slide_type": "slide"
    }
   },
   "source": [
    "# **1. 주제: 쿠팡 닭가슴살 제품 관련 가설 검정**"
   ]
  },
  {
   "cell_type": "markdown",
   "id": "3e04c2f9",
   "metadata": {
    "slideshow": {
     "slide_type": "fragment"
    }
   },
   "source": [
    "## 데이터 불러오기"
   ]
  },
  {
   "cell_type": "code",
   "execution_count": 346,
   "id": "42a6a846",
   "metadata": {
    "slideshow": {
     "slide_type": "fragment"
    }
   },
   "outputs": [],
   "source": [
    "df=pd.read_csv(\"Coupang_df.csv\")"
   ]
  },
  {
   "cell_type": "code",
   "execution_count": 347,
   "id": "c3a8cb40",
   "metadata": {
    "scrolled": true,
    "slideshow": {
     "slide_type": "fragment"
    }
   },
   "outputs": [
    {
     "data": {
      "text/html": [
       "<div>\n",
       "<style scoped>\n",
       "    .dataframe tbody tr th:only-of-type {\n",
       "        vertical-align: middle;\n",
       "    }\n",
       "\n",
       "    .dataframe tbody tr th {\n",
       "        vertical-align: top;\n",
       "    }\n",
       "\n",
       "    .dataframe thead th {\n",
       "        text-align: right;\n",
       "    }\n",
       "</style>\n",
       "<table border=\"1\" class=\"dataframe\">\n",
       "  <thead>\n",
       "    <tr style=\"text-align: right;\">\n",
       "      <th></th>\n",
       "      <th>브랜드</th>\n",
       "      <th>제품명</th>\n",
       "      <th>검색 순위</th>\n",
       "      <th>쿠팡 판매가</th>\n",
       "      <th>쿠팡 판매가 단위별 가격</th>\n",
       "      <th>와우 할인가</th>\n",
       "      <th>와우 할인가 단위별 가격</th>\n",
       "      <th>상품평 수</th>\n",
       "    </tr>\n",
       "  </thead>\n",
       "  <tbody>\n",
       "    <tr>\n",
       "      <th>0</th>\n",
       "      <td>NaN</td>\n",
       "      <td>국내산 닭가슴살 10kg. 1kg x 10 냉장</td>\n",
       "      <td>1</td>\n",
       "      <td>55,000원</td>\n",
       "      <td>(100g당 550원)</td>\n",
       "      <td>없음</td>\n",
       "      <td>NaN</td>\n",
       "      <td>117개</td>\n",
       "    </tr>\n",
       "    <tr>\n",
       "      <th>1</th>\n",
       "      <td>올품</td>\n",
       "      <td>올품 IQF 닭가슴살 1kg x 5봉, 1kg, 5개</td>\n",
       "      <td>2</td>\n",
       "      <td>38,600원</td>\n",
       "      <td>(100g당 772원)</td>\n",
       "      <td>없음</td>\n",
       "      <td>NaN</td>\n",
       "      <td>952개</td>\n",
       "    </tr>\n",
       "    <tr>\n",
       "      <th>2</th>\n",
       "      <td>NaN</td>\n",
       "      <td>한강식품 IQF 무항생제 닭가슴살 (냉동), 1kg, 5개</td>\n",
       "      <td>3</td>\n",
       "      <td>40,160원</td>\n",
       "      <td>(100g당 803원)</td>\n",
       "      <td>없음</td>\n",
       "      <td>NaN</td>\n",
       "      <td>13,760개</td>\n",
       "    </tr>\n",
       "    <tr>\n",
       "      <th>3</th>\n",
       "      <td>NaN</td>\n",
       "      <td>브린 껍질없는 닭가슴살, 5kg, 1개</td>\n",
       "      <td>4</td>\n",
       "      <td>30,290원</td>\n",
       "      <td>(100g당 606원)</td>\n",
       "      <td>없음</td>\n",
       "      <td>NaN</td>\n",
       "      <td>937개</td>\n",
       "    </tr>\n",
       "    <tr>\n",
       "      <th>4</th>\n",
       "      <td>NaN</td>\n",
       "      <td>사계림 국내산 냉장 생닭가슴살 2kg포장, 14kg(2kg X..., 7개</td>\n",
       "      <td>5</td>\n",
       "      <td>80,840원</td>\n",
       "      <td>(100g당 577원)</td>\n",
       "      <td>없음</td>\n",
       "      <td>NaN</td>\n",
       "      <td>54개</td>\n",
       "    </tr>\n",
       "  </tbody>\n",
       "</table>\n",
       "</div>"
      ],
      "text/plain": [
       "   브랜드                                        제품명  검색 순위   쿠팡 판매가  \\\n",
       "0  NaN                 국내산 닭가슴살 10kg. 1kg x 10 냉장      1  55,000원   \n",
       "1   올품              올품 IQF 닭가슴살 1kg x 5봉, 1kg, 5개      2  38,600원   \n",
       "2  NaN           한강식품 IQF 무항생제 닭가슴살 (냉동), 1kg, 5개      3  40,160원   \n",
       "3  NaN                      브린 껍질없는 닭가슴살, 5kg, 1개      4  30,290원   \n",
       "4  NaN  사계림 국내산 냉장 생닭가슴살 2kg포장, 14kg(2kg X..., 7개      5  80,840원   \n",
       "\n",
       "  쿠팡 판매가 단위별 가격 와우 할인가 와우 할인가 단위별 가격    상품평 수  \n",
       "0  (100g당 550원)     없음           NaN     117개  \n",
       "1  (100g당 772원)     없음           NaN     952개  \n",
       "2  (100g당 803원)     없음           NaN  13,760개  \n",
       "3  (100g당 606원)     없음           NaN     937개  \n",
       "4  (100g당 577원)     없음           NaN      54개  "
      ]
     },
     "execution_count": 347,
     "metadata": {},
     "output_type": "execute_result"
    }
   ],
   "source": [
    "df.head()   # 데이터 위쪽 5개 행 출력"
   ]
  },
  {
   "cell_type": "code",
   "execution_count": 348,
   "id": "85410e07",
   "metadata": {
    "slideshow": {
     "slide_type": "fragment"
    }
   },
   "outputs": [],
   "source": [
    "df.columns=[\"brand\", \"title\", \"rank\", \"origin_price\", \"origin_unit_price\", \"saled_price\", \"saled_unit_price\", \"review_counts\"]  # 데이터프레임 열 이름 변경"
   ]
  },
  {
   "cell_type": "code",
   "execution_count": 349,
   "id": "93e5f030",
   "metadata": {
    "slideshow": {
     "slide_type": "fragment"
    }
   },
   "outputs": [
    {
     "data": {
      "text/html": [
       "<div>\n",
       "<style scoped>\n",
       "    .dataframe tbody tr th:only-of-type {\n",
       "        vertical-align: middle;\n",
       "    }\n",
       "\n",
       "    .dataframe tbody tr th {\n",
       "        vertical-align: top;\n",
       "    }\n",
       "\n",
       "    .dataframe thead th {\n",
       "        text-align: right;\n",
       "    }\n",
       "</style>\n",
       "<table border=\"1\" class=\"dataframe\">\n",
       "  <thead>\n",
       "    <tr style=\"text-align: right;\">\n",
       "      <th></th>\n",
       "      <th>brand</th>\n",
       "      <th>title</th>\n",
       "      <th>rank</th>\n",
       "      <th>origin_price</th>\n",
       "      <th>origin_unit_price</th>\n",
       "      <th>saled_price</th>\n",
       "      <th>saled_unit_price</th>\n",
       "      <th>review_counts</th>\n",
       "    </tr>\n",
       "  </thead>\n",
       "  <tbody>\n",
       "    <tr>\n",
       "      <th>0</th>\n",
       "      <td>NaN</td>\n",
       "      <td>국내산 닭가슴살 10kg. 1kg x 10 냉장</td>\n",
       "      <td>1</td>\n",
       "      <td>55,000원</td>\n",
       "      <td>(100g당 550원)</td>\n",
       "      <td>없음</td>\n",
       "      <td>NaN</td>\n",
       "      <td>117개</td>\n",
       "    </tr>\n",
       "    <tr>\n",
       "      <th>1</th>\n",
       "      <td>올품</td>\n",
       "      <td>올품 IQF 닭가슴살 1kg x 5봉, 1kg, 5개</td>\n",
       "      <td>2</td>\n",
       "      <td>38,600원</td>\n",
       "      <td>(100g당 772원)</td>\n",
       "      <td>없음</td>\n",
       "      <td>NaN</td>\n",
       "      <td>952개</td>\n",
       "    </tr>\n",
       "    <tr>\n",
       "      <th>2</th>\n",
       "      <td>NaN</td>\n",
       "      <td>한강식품 IQF 무항생제 닭가슴살 (냉동), 1kg, 5개</td>\n",
       "      <td>3</td>\n",
       "      <td>40,160원</td>\n",
       "      <td>(100g당 803원)</td>\n",
       "      <td>없음</td>\n",
       "      <td>NaN</td>\n",
       "      <td>13,760개</td>\n",
       "    </tr>\n",
       "    <tr>\n",
       "      <th>3</th>\n",
       "      <td>NaN</td>\n",
       "      <td>브린 껍질없는 닭가슴살, 5kg, 1개</td>\n",
       "      <td>4</td>\n",
       "      <td>30,290원</td>\n",
       "      <td>(100g당 606원)</td>\n",
       "      <td>없음</td>\n",
       "      <td>NaN</td>\n",
       "      <td>937개</td>\n",
       "    </tr>\n",
       "    <tr>\n",
       "      <th>4</th>\n",
       "      <td>NaN</td>\n",
       "      <td>사계림 국내산 냉장 생닭가슴살 2kg포장, 14kg(2kg X..., 7개</td>\n",
       "      <td>5</td>\n",
       "      <td>80,840원</td>\n",
       "      <td>(100g당 577원)</td>\n",
       "      <td>없음</td>\n",
       "      <td>NaN</td>\n",
       "      <td>54개</td>\n",
       "    </tr>\n",
       "  </tbody>\n",
       "</table>\n",
       "</div>"
      ],
      "text/plain": [
       "  brand                                      title  rank origin_price  \\\n",
       "0   NaN                 국내산 닭가슴살 10kg. 1kg x 10 냉장     1      55,000원   \n",
       "1    올품              올품 IQF 닭가슴살 1kg x 5봉, 1kg, 5개     2      38,600원   \n",
       "2   NaN           한강식품 IQF 무항생제 닭가슴살 (냉동), 1kg, 5개     3      40,160원   \n",
       "3   NaN                      브린 껍질없는 닭가슴살, 5kg, 1개     4      30,290원   \n",
       "4   NaN  사계림 국내산 냉장 생닭가슴살 2kg포장, 14kg(2kg X..., 7개     5      80,840원   \n",
       "\n",
       "  origin_unit_price saled_price saled_unit_price review_counts  \n",
       "0      (100g당 550원)          없음              NaN          117개  \n",
       "1      (100g당 772원)          없음              NaN          952개  \n",
       "2      (100g당 803원)          없음              NaN       13,760개  \n",
       "3      (100g당 606원)          없음              NaN          937개  \n",
       "4      (100g당 577원)          없음              NaN           54개  "
      ]
     },
     "execution_count": 349,
     "metadata": {},
     "output_type": "execute_result"
    }
   ],
   "source": [
    "df.head()"
   ]
  },
  {
   "cell_type": "markdown",
   "id": "ae11f1b1",
   "metadata": {},
   "source": [
    "---"
   ]
  },
  {
   "cell_type": "markdown",
   "id": "42502232",
   "metadata": {
    "slideshow": {
     "slide_type": "slide"
    }
   },
   "source": [
    "# 2. 가설:\n",
    "    \n",
    "## 2_1 : *쿠팡 검색 랭킹(rank)이 높을 수록, 상품평 수(review_counts)가 많을 것이다.*\n",
    "\n",
    "## 2_2 : *제품 무게가 무거울수록 (대용량 제품일수록), 100g당 가격(unit_price)이 저렴할 것이다.*"
   ]
  },
  {
   "cell_type": "markdown",
   "id": "9e9deceb",
   "metadata": {},
   "source": [
    "---"
   ]
  },
  {
   "cell_type": "markdown",
   "id": "1fe1d513",
   "metadata": {
    "slideshow": {
     "slide_type": "slide"
    }
   },
   "source": [
    "# 3. 분석할 데이터의 출처와 데이터 내용:\n",
    "\n",
    "**데이터 출처** : 쿠팡\n",
    "    \n",
    "**데이터 내용** (닭가슴살 제품 정보) :\n",
    "* 브랜드\n",
    "* 제품명\n",
    "* 검색 순위\n",
    "* 쿠팡 판매가 (+ 단위별 가격)\n",
    "* 와우 할인가 (+ 단위별 가격)\n",
    "*  상품평 수"
   ]
  },
  {
   "cell_type": "code",
   "execution_count": 350,
   "id": "38fa51d9",
   "metadata": {
    "slideshow": {
     "slide_type": "fragment"
    }
   },
   "outputs": [
    {
     "data": {
      "text/html": [
       "<div>\n",
       "<style scoped>\n",
       "    .dataframe tbody tr th:only-of-type {\n",
       "        vertical-align: middle;\n",
       "    }\n",
       "\n",
       "    .dataframe tbody tr th {\n",
       "        vertical-align: top;\n",
       "    }\n",
       "\n",
       "    .dataframe thead th {\n",
       "        text-align: right;\n",
       "    }\n",
       "</style>\n",
       "<table border=\"1\" class=\"dataframe\">\n",
       "  <thead>\n",
       "    <tr style=\"text-align: right;\">\n",
       "      <th></th>\n",
       "      <th>brand</th>\n",
       "      <th>title</th>\n",
       "      <th>rank</th>\n",
       "      <th>origin_price</th>\n",
       "      <th>origin_unit_price</th>\n",
       "      <th>saled_price</th>\n",
       "      <th>saled_unit_price</th>\n",
       "      <th>review_counts</th>\n",
       "    </tr>\n",
       "  </thead>\n",
       "  <tbody>\n",
       "    <tr>\n",
       "      <th>0</th>\n",
       "      <td>NaN</td>\n",
       "      <td>국내산 닭가슴살 10kg. 1kg x 10 냉장</td>\n",
       "      <td>1</td>\n",
       "      <td>55,000원</td>\n",
       "      <td>(100g당 550원)</td>\n",
       "      <td>없음</td>\n",
       "      <td>NaN</td>\n",
       "      <td>117개</td>\n",
       "    </tr>\n",
       "    <tr>\n",
       "      <th>1</th>\n",
       "      <td>올품</td>\n",
       "      <td>올품 IQF 닭가슴살 1kg x 5봉, 1kg, 5개</td>\n",
       "      <td>2</td>\n",
       "      <td>38,600원</td>\n",
       "      <td>(100g당 772원)</td>\n",
       "      <td>없음</td>\n",
       "      <td>NaN</td>\n",
       "      <td>952개</td>\n",
       "    </tr>\n",
       "    <tr>\n",
       "      <th>2</th>\n",
       "      <td>NaN</td>\n",
       "      <td>한강식품 IQF 무항생제 닭가슴살 (냉동), 1kg, 5개</td>\n",
       "      <td>3</td>\n",
       "      <td>40,160원</td>\n",
       "      <td>(100g당 803원)</td>\n",
       "      <td>없음</td>\n",
       "      <td>NaN</td>\n",
       "      <td>13,760개</td>\n",
       "    </tr>\n",
       "    <tr>\n",
       "      <th>3</th>\n",
       "      <td>NaN</td>\n",
       "      <td>브린 껍질없는 닭가슴살, 5kg, 1개</td>\n",
       "      <td>4</td>\n",
       "      <td>30,290원</td>\n",
       "      <td>(100g당 606원)</td>\n",
       "      <td>없음</td>\n",
       "      <td>NaN</td>\n",
       "      <td>937개</td>\n",
       "    </tr>\n",
       "    <tr>\n",
       "      <th>4</th>\n",
       "      <td>NaN</td>\n",
       "      <td>사계림 국내산 냉장 생닭가슴살 2kg포장, 14kg(2kg X..., 7개</td>\n",
       "      <td>5</td>\n",
       "      <td>80,840원</td>\n",
       "      <td>(100g당 577원)</td>\n",
       "      <td>없음</td>\n",
       "      <td>NaN</td>\n",
       "      <td>54개</td>\n",
       "    </tr>\n",
       "  </tbody>\n",
       "</table>\n",
       "</div>"
      ],
      "text/plain": [
       "  brand                                      title  rank origin_price  \\\n",
       "0   NaN                 국내산 닭가슴살 10kg. 1kg x 10 냉장     1      55,000원   \n",
       "1    올품              올품 IQF 닭가슴살 1kg x 5봉, 1kg, 5개     2      38,600원   \n",
       "2   NaN           한강식품 IQF 무항생제 닭가슴살 (냉동), 1kg, 5개     3      40,160원   \n",
       "3   NaN                      브린 껍질없는 닭가슴살, 5kg, 1개     4      30,290원   \n",
       "4   NaN  사계림 국내산 냉장 생닭가슴살 2kg포장, 14kg(2kg X..., 7개     5      80,840원   \n",
       "\n",
       "  origin_unit_price saled_price saled_unit_price review_counts  \n",
       "0      (100g당 550원)          없음              NaN          117개  \n",
       "1      (100g당 772원)          없음              NaN          952개  \n",
       "2      (100g당 803원)          없음              NaN       13,760개  \n",
       "3      (100g당 606원)          없음              NaN          937개  \n",
       "4      (100g당 577원)          없음              NaN           54개  "
      ]
     },
     "execution_count": 350,
     "metadata": {},
     "output_type": "execute_result"
    }
   ],
   "source": [
    "df.head()"
   ]
  },
  {
   "cell_type": "markdown",
   "id": "a2c1185b",
   "metadata": {},
   "source": [
    "### 기본 전처리 (중복값 제거)"
   ]
  },
  {
   "cell_type": "code",
   "execution_count": 351,
   "id": "9ff36bb9",
   "metadata": {},
   "outputs": [
    {
     "data": {
      "text/html": [
       "<div>\n",
       "<style scoped>\n",
       "    .dataframe tbody tr th:only-of-type {\n",
       "        vertical-align: middle;\n",
       "    }\n",
       "\n",
       "    .dataframe tbody tr th {\n",
       "        vertical-align: top;\n",
       "    }\n",
       "\n",
       "    .dataframe thead th {\n",
       "        text-align: right;\n",
       "    }\n",
       "</style>\n",
       "<table border=\"1\" class=\"dataframe\">\n",
       "  <thead>\n",
       "    <tr style=\"text-align: right;\">\n",
       "      <th></th>\n",
       "      <th>brand</th>\n",
       "      <th>title</th>\n",
       "      <th>rank</th>\n",
       "      <th>origin_price</th>\n",
       "      <th>origin_unit_price</th>\n",
       "      <th>saled_price</th>\n",
       "      <th>saled_unit_price</th>\n",
       "      <th>review_counts</th>\n",
       "    </tr>\n",
       "  </thead>\n",
       "  <tbody>\n",
       "    <tr>\n",
       "      <th>0</th>\n",
       "      <td>NaN</td>\n",
       "      <td>국내산 닭가슴살 10kg. 1kg x 10 냉장</td>\n",
       "      <td>1</td>\n",
       "      <td>55,000원</td>\n",
       "      <td>(100g당 550원)</td>\n",
       "      <td>없음</td>\n",
       "      <td>NaN</td>\n",
       "      <td>117개</td>\n",
       "    </tr>\n",
       "    <tr>\n",
       "      <th>1</th>\n",
       "      <td>올품</td>\n",
       "      <td>올품 IQF 닭가슴살 1kg x 5봉, 1kg, 5개</td>\n",
       "      <td>2</td>\n",
       "      <td>38,600원</td>\n",
       "      <td>(100g당 772원)</td>\n",
       "      <td>없음</td>\n",
       "      <td>NaN</td>\n",
       "      <td>952개</td>\n",
       "    </tr>\n",
       "    <tr>\n",
       "      <th>2</th>\n",
       "      <td>NaN</td>\n",
       "      <td>한강식품 IQF 무항생제 닭가슴살 (냉동), 1kg, 5개</td>\n",
       "      <td>3</td>\n",
       "      <td>40,160원</td>\n",
       "      <td>(100g당 803원)</td>\n",
       "      <td>없음</td>\n",
       "      <td>NaN</td>\n",
       "      <td>13,760개</td>\n",
       "    </tr>\n",
       "    <tr>\n",
       "      <th>3</th>\n",
       "      <td>NaN</td>\n",
       "      <td>브린 껍질없는 닭가슴살, 5kg, 1개</td>\n",
       "      <td>4</td>\n",
       "      <td>30,290원</td>\n",
       "      <td>(100g당 606원)</td>\n",
       "      <td>없음</td>\n",
       "      <td>NaN</td>\n",
       "      <td>937개</td>\n",
       "    </tr>\n",
       "    <tr>\n",
       "      <th>4</th>\n",
       "      <td>NaN</td>\n",
       "      <td>사계림 국내산 냉장 생닭가슴살 2kg포장, 14kg(2kg X..., 7개</td>\n",
       "      <td>5</td>\n",
       "      <td>80,840원</td>\n",
       "      <td>(100g당 577원)</td>\n",
       "      <td>없음</td>\n",
       "      <td>NaN</td>\n",
       "      <td>54개</td>\n",
       "    </tr>\n",
       "    <tr>\n",
       "      <th>...</th>\n",
       "      <td>...</td>\n",
       "      <td>...</td>\n",
       "      <td>...</td>\n",
       "      <td>...</td>\n",
       "      <td>...</td>\n",
       "      <td>...</td>\n",
       "      <td>...</td>\n",
       "      <td>...</td>\n",
       "    </tr>\n",
       "    <tr>\n",
       "      <th>211</th>\n",
       "      <td>미쳤닭</td>\n",
       "      <td>미쳤닭 냉동 생닭가슴살 (200g포장), 200g, 5개</td>\n",
       "      <td>212</td>\n",
       "      <td>14,900원</td>\n",
       "      <td>(100g당 1,490원)</td>\n",
       "      <td>없음</td>\n",
       "      <td>NaN</td>\n",
       "      <td>1,313개</td>\n",
       "    </tr>\n",
       "    <tr>\n",
       "      <th>212</th>\n",
       "      <td>NaN</td>\n",
       "      <td>올계 유기농인증 닭가슴살 (냉동), 300g, 1개</td>\n",
       "      <td>213</td>\n",
       "      <td>12,830원</td>\n",
       "      <td>(100g당 4,277원)</td>\n",
       "      <td>없음</td>\n",
       "      <td>NaN</td>\n",
       "      <td>385개</td>\n",
       "    </tr>\n",
       "    <tr>\n",
       "      <th>213</th>\n",
       "      <td>신선애</td>\n",
       "      <td>신선애 IQF 한입 닭가슴살 1kg, 1kg, 1팩</td>\n",
       "      <td>214</td>\n",
       "      <td>10,500원</td>\n",
       "      <td>NaN</td>\n",
       "      <td>없음</td>\n",
       "      <td>NaN</td>\n",
       "      <td>8개</td>\n",
       "    </tr>\n",
       "    <tr>\n",
       "      <th>214</th>\n",
       "      <td>NaN</td>\n",
       "      <td>풀토래_냉장 닭안심 2kg_국내산, 2kg, 2개</td>\n",
       "      <td>215</td>\n",
       "      <td>27,800원</td>\n",
       "      <td>(100g당 695원)</td>\n",
       "      <td>없음</td>\n",
       "      <td>NaN</td>\n",
       "      <td>2,866개</td>\n",
       "    </tr>\n",
       "    <tr>\n",
       "      <th>215</th>\n",
       "      <td>올품</td>\n",
       "      <td>올품 IQF 닭가슴살 슬라이스, 1kg, 5개</td>\n",
       "      <td>216</td>\n",
       "      <td>42,500원</td>\n",
       "      <td>(100g당 850원)</td>\n",
       "      <td>없음</td>\n",
       "      <td>NaN</td>\n",
       "      <td>28개</td>\n",
       "    </tr>\n",
       "  </tbody>\n",
       "</table>\n",
       "<p>216 rows × 8 columns</p>\n",
       "</div>"
      ],
      "text/plain": [
       "    brand                                      title  rank origin_price  \\\n",
       "0     NaN                 국내산 닭가슴살 10kg. 1kg x 10 냉장     1      55,000원   \n",
       "1      올품              올품 IQF 닭가슴살 1kg x 5봉, 1kg, 5개     2      38,600원   \n",
       "2     NaN           한강식품 IQF 무항생제 닭가슴살 (냉동), 1kg, 5개     3      40,160원   \n",
       "3     NaN                      브린 껍질없는 닭가슴살, 5kg, 1개     4      30,290원   \n",
       "4     NaN  사계림 국내산 냉장 생닭가슴살 2kg포장, 14kg(2kg X..., 7개     5      80,840원   \n",
       "..    ...                                        ...   ...          ...   \n",
       "211   미쳤닭            미쳤닭 냉동 생닭가슴살 (200g포장), 200g, 5개   212      14,900원   \n",
       "212   NaN               올계 유기농인증 닭가슴살 (냉동), 300g, 1개   213      12,830원   \n",
       "213   신선애               신선애 IQF 한입 닭가슴살 1kg, 1kg, 1팩   214      10,500원   \n",
       "214   NaN                풀토래_냉장 닭안심 2kg_국내산, 2kg, 2개   215      27,800원   \n",
       "215    올품                  올품 IQF 닭가슴살 슬라이스, 1kg, 5개   216      42,500원   \n",
       "\n",
       "    origin_unit_price saled_price saled_unit_price review_counts  \n",
       "0        (100g당 550원)          없음              NaN          117개  \n",
       "1        (100g당 772원)          없음              NaN          952개  \n",
       "2        (100g당 803원)          없음              NaN       13,760개  \n",
       "3        (100g당 606원)          없음              NaN          937개  \n",
       "4        (100g당 577원)          없음              NaN           54개  \n",
       "..                ...         ...              ...           ...  \n",
       "211    (100g당 1,490원)          없음              NaN        1,313개  \n",
       "212    (100g당 4,277원)          없음              NaN          385개  \n",
       "213               NaN          없음              NaN            8개  \n",
       "214      (100g당 695원)          없음              NaN        2,866개  \n",
       "215      (100g당 850원)          없음              NaN           28개  \n",
       "\n",
       "[216 rows x 8 columns]"
      ]
     },
     "execution_count": 351,
     "metadata": {},
     "output_type": "execute_result"
    }
   ],
   "source": [
    "df"
   ]
  },
  {
   "cell_type": "code",
   "execution_count": 352,
   "id": "738f5c9f",
   "metadata": {
    "slideshow": {
     "slide_type": "fragment"
    }
   },
   "outputs": [],
   "source": [
    "# 'title', 'origin_price' 기준 중복된 제품이 있을 경우 하나만 남김 (앞의 값)\n",
    "df.drop_duplicates(subset=['title', 'origin_price'], inplace=True)"
   ]
  },
  {
   "cell_type": "code",
   "execution_count": 353,
   "id": "ac7423a7",
   "metadata": {},
   "outputs": [
    {
     "data": {
      "text/html": [
       "<div>\n",
       "<style scoped>\n",
       "    .dataframe tbody tr th:only-of-type {\n",
       "        vertical-align: middle;\n",
       "    }\n",
       "\n",
       "    .dataframe tbody tr th {\n",
       "        vertical-align: top;\n",
       "    }\n",
       "\n",
       "    .dataframe thead th {\n",
       "        text-align: right;\n",
       "    }\n",
       "</style>\n",
       "<table border=\"1\" class=\"dataframe\">\n",
       "  <thead>\n",
       "    <tr style=\"text-align: right;\">\n",
       "      <th></th>\n",
       "      <th>brand</th>\n",
       "      <th>title</th>\n",
       "      <th>rank</th>\n",
       "      <th>origin_price</th>\n",
       "      <th>origin_unit_price</th>\n",
       "      <th>saled_price</th>\n",
       "      <th>saled_unit_price</th>\n",
       "      <th>review_counts</th>\n",
       "    </tr>\n",
       "  </thead>\n",
       "  <tbody>\n",
       "    <tr>\n",
       "      <th>0</th>\n",
       "      <td>NaN</td>\n",
       "      <td>국내산 닭가슴살 10kg. 1kg x 10 냉장</td>\n",
       "      <td>1</td>\n",
       "      <td>55,000원</td>\n",
       "      <td>(100g당 550원)</td>\n",
       "      <td>없음</td>\n",
       "      <td>NaN</td>\n",
       "      <td>117개</td>\n",
       "    </tr>\n",
       "    <tr>\n",
       "      <th>1</th>\n",
       "      <td>올품</td>\n",
       "      <td>올품 IQF 닭가슴살 1kg x 5봉, 1kg, 5개</td>\n",
       "      <td>2</td>\n",
       "      <td>38,600원</td>\n",
       "      <td>(100g당 772원)</td>\n",
       "      <td>없음</td>\n",
       "      <td>NaN</td>\n",
       "      <td>952개</td>\n",
       "    </tr>\n",
       "    <tr>\n",
       "      <th>2</th>\n",
       "      <td>NaN</td>\n",
       "      <td>한강식품 IQF 무항생제 닭가슴살 (냉동), 1kg, 5개</td>\n",
       "      <td>3</td>\n",
       "      <td>40,160원</td>\n",
       "      <td>(100g당 803원)</td>\n",
       "      <td>없음</td>\n",
       "      <td>NaN</td>\n",
       "      <td>13,760개</td>\n",
       "    </tr>\n",
       "    <tr>\n",
       "      <th>3</th>\n",
       "      <td>NaN</td>\n",
       "      <td>브린 껍질없는 닭가슴살, 5kg, 1개</td>\n",
       "      <td>4</td>\n",
       "      <td>30,290원</td>\n",
       "      <td>(100g당 606원)</td>\n",
       "      <td>없음</td>\n",
       "      <td>NaN</td>\n",
       "      <td>937개</td>\n",
       "    </tr>\n",
       "    <tr>\n",
       "      <th>4</th>\n",
       "      <td>NaN</td>\n",
       "      <td>사계림 국내산 냉장 생닭가슴살 2kg포장, 14kg(2kg X..., 7개</td>\n",
       "      <td>5</td>\n",
       "      <td>80,840원</td>\n",
       "      <td>(100g당 577원)</td>\n",
       "      <td>없음</td>\n",
       "      <td>NaN</td>\n",
       "      <td>54개</td>\n",
       "    </tr>\n",
       "    <tr>\n",
       "      <th>...</th>\n",
       "      <td>...</td>\n",
       "      <td>...</td>\n",
       "      <td>...</td>\n",
       "      <td>...</td>\n",
       "      <td>...</td>\n",
       "      <td>...</td>\n",
       "      <td>...</td>\n",
       "      <td>...</td>\n",
       "    </tr>\n",
       "    <tr>\n",
       "      <th>211</th>\n",
       "      <td>미쳤닭</td>\n",
       "      <td>미쳤닭 냉동 생닭가슴살 (200g포장), 200g, 5개</td>\n",
       "      <td>212</td>\n",
       "      <td>14,900원</td>\n",
       "      <td>(100g당 1,490원)</td>\n",
       "      <td>없음</td>\n",
       "      <td>NaN</td>\n",
       "      <td>1,313개</td>\n",
       "    </tr>\n",
       "    <tr>\n",
       "      <th>212</th>\n",
       "      <td>NaN</td>\n",
       "      <td>올계 유기농인증 닭가슴살 (냉동), 300g, 1개</td>\n",
       "      <td>213</td>\n",
       "      <td>12,830원</td>\n",
       "      <td>(100g당 4,277원)</td>\n",
       "      <td>없음</td>\n",
       "      <td>NaN</td>\n",
       "      <td>385개</td>\n",
       "    </tr>\n",
       "    <tr>\n",
       "      <th>213</th>\n",
       "      <td>신선애</td>\n",
       "      <td>신선애 IQF 한입 닭가슴살 1kg, 1kg, 1팩</td>\n",
       "      <td>214</td>\n",
       "      <td>10,500원</td>\n",
       "      <td>NaN</td>\n",
       "      <td>없음</td>\n",
       "      <td>NaN</td>\n",
       "      <td>8개</td>\n",
       "    </tr>\n",
       "    <tr>\n",
       "      <th>214</th>\n",
       "      <td>NaN</td>\n",
       "      <td>풀토래_냉장 닭안심 2kg_국내산, 2kg, 2개</td>\n",
       "      <td>215</td>\n",
       "      <td>27,800원</td>\n",
       "      <td>(100g당 695원)</td>\n",
       "      <td>없음</td>\n",
       "      <td>NaN</td>\n",
       "      <td>2,866개</td>\n",
       "    </tr>\n",
       "    <tr>\n",
       "      <th>215</th>\n",
       "      <td>올품</td>\n",
       "      <td>올품 IQF 닭가슴살 슬라이스, 1kg, 5개</td>\n",
       "      <td>216</td>\n",
       "      <td>42,500원</td>\n",
       "      <td>(100g당 850원)</td>\n",
       "      <td>없음</td>\n",
       "      <td>NaN</td>\n",
       "      <td>28개</td>\n",
       "    </tr>\n",
       "  </tbody>\n",
       "</table>\n",
       "<p>193 rows × 8 columns</p>\n",
       "</div>"
      ],
      "text/plain": [
       "    brand                                      title  rank origin_price  \\\n",
       "0     NaN                 국내산 닭가슴살 10kg. 1kg x 10 냉장     1      55,000원   \n",
       "1      올품              올품 IQF 닭가슴살 1kg x 5봉, 1kg, 5개     2      38,600원   \n",
       "2     NaN           한강식품 IQF 무항생제 닭가슴살 (냉동), 1kg, 5개     3      40,160원   \n",
       "3     NaN                      브린 껍질없는 닭가슴살, 5kg, 1개     4      30,290원   \n",
       "4     NaN  사계림 국내산 냉장 생닭가슴살 2kg포장, 14kg(2kg X..., 7개     5      80,840원   \n",
       "..    ...                                        ...   ...          ...   \n",
       "211   미쳤닭            미쳤닭 냉동 생닭가슴살 (200g포장), 200g, 5개   212      14,900원   \n",
       "212   NaN               올계 유기농인증 닭가슴살 (냉동), 300g, 1개   213      12,830원   \n",
       "213   신선애               신선애 IQF 한입 닭가슴살 1kg, 1kg, 1팩   214      10,500원   \n",
       "214   NaN                풀토래_냉장 닭안심 2kg_국내산, 2kg, 2개   215      27,800원   \n",
       "215    올품                  올품 IQF 닭가슴살 슬라이스, 1kg, 5개   216      42,500원   \n",
       "\n",
       "    origin_unit_price saled_price saled_unit_price review_counts  \n",
       "0        (100g당 550원)          없음              NaN          117개  \n",
       "1        (100g당 772원)          없음              NaN          952개  \n",
       "2        (100g당 803원)          없음              NaN       13,760개  \n",
       "3        (100g당 606원)          없음              NaN          937개  \n",
       "4        (100g당 577원)          없음              NaN           54개  \n",
       "..                ...         ...              ...           ...  \n",
       "211    (100g당 1,490원)          없음              NaN        1,313개  \n",
       "212    (100g당 4,277원)          없음              NaN          385개  \n",
       "213               NaN          없음              NaN            8개  \n",
       "214      (100g당 695원)          없음              NaN        2,866개  \n",
       "215      (100g당 850원)          없음              NaN           28개  \n",
       "\n",
       "[193 rows x 8 columns]"
      ]
     },
     "execution_count": 353,
     "metadata": {},
     "output_type": "execute_result"
    }
   ],
   "source": [
    "df"
   ]
  },
  {
   "cell_type": "code",
   "execution_count": 354,
   "id": "94b49dcd",
   "metadata": {
    "slideshow": {
     "slide_type": "subslide"
    }
   },
   "outputs": [],
   "source": [
    "df.reset_index(drop=True, inplace=True)"
   ]
  },
  {
   "cell_type": "code",
   "execution_count": 355,
   "id": "12fba460",
   "metadata": {
    "slideshow": {
     "slide_type": "subslide"
    }
   },
   "outputs": [
    {
     "data": {
      "text/html": [
       "<div>\n",
       "<style scoped>\n",
       "    .dataframe tbody tr th:only-of-type {\n",
       "        vertical-align: middle;\n",
       "    }\n",
       "\n",
       "    .dataframe tbody tr th {\n",
       "        vertical-align: top;\n",
       "    }\n",
       "\n",
       "    .dataframe thead th {\n",
       "        text-align: right;\n",
       "    }\n",
       "</style>\n",
       "<table border=\"1\" class=\"dataframe\">\n",
       "  <thead>\n",
       "    <tr style=\"text-align: right;\">\n",
       "      <th></th>\n",
       "      <th>brand</th>\n",
       "      <th>title</th>\n",
       "      <th>rank</th>\n",
       "      <th>origin_price</th>\n",
       "      <th>origin_unit_price</th>\n",
       "      <th>saled_price</th>\n",
       "      <th>saled_unit_price</th>\n",
       "      <th>review_counts</th>\n",
       "    </tr>\n",
       "  </thead>\n",
       "  <tbody>\n",
       "    <tr>\n",
       "      <th>0</th>\n",
       "      <td>NaN</td>\n",
       "      <td>국내산 닭가슴살 10kg. 1kg x 10 냉장</td>\n",
       "      <td>1</td>\n",
       "      <td>55,000원</td>\n",
       "      <td>(100g당 550원)</td>\n",
       "      <td>없음</td>\n",
       "      <td>NaN</td>\n",
       "      <td>117개</td>\n",
       "    </tr>\n",
       "    <tr>\n",
       "      <th>1</th>\n",
       "      <td>올품</td>\n",
       "      <td>올품 IQF 닭가슴살 1kg x 5봉, 1kg, 5개</td>\n",
       "      <td>2</td>\n",
       "      <td>38,600원</td>\n",
       "      <td>(100g당 772원)</td>\n",
       "      <td>없음</td>\n",
       "      <td>NaN</td>\n",
       "      <td>952개</td>\n",
       "    </tr>\n",
       "    <tr>\n",
       "      <th>2</th>\n",
       "      <td>NaN</td>\n",
       "      <td>한강식품 IQF 무항생제 닭가슴살 (냉동), 1kg, 5개</td>\n",
       "      <td>3</td>\n",
       "      <td>40,160원</td>\n",
       "      <td>(100g당 803원)</td>\n",
       "      <td>없음</td>\n",
       "      <td>NaN</td>\n",
       "      <td>13,760개</td>\n",
       "    </tr>\n",
       "    <tr>\n",
       "      <th>3</th>\n",
       "      <td>NaN</td>\n",
       "      <td>브린 껍질없는 닭가슴살, 5kg, 1개</td>\n",
       "      <td>4</td>\n",
       "      <td>30,290원</td>\n",
       "      <td>(100g당 606원)</td>\n",
       "      <td>없음</td>\n",
       "      <td>NaN</td>\n",
       "      <td>937개</td>\n",
       "    </tr>\n",
       "    <tr>\n",
       "      <th>4</th>\n",
       "      <td>NaN</td>\n",
       "      <td>사계림 국내산 냉장 생닭가슴살 2kg포장, 14kg(2kg X..., 7개</td>\n",
       "      <td>5</td>\n",
       "      <td>80,840원</td>\n",
       "      <td>(100g당 577원)</td>\n",
       "      <td>없음</td>\n",
       "      <td>NaN</td>\n",
       "      <td>54개</td>\n",
       "    </tr>\n",
       "    <tr>\n",
       "      <th>...</th>\n",
       "      <td>...</td>\n",
       "      <td>...</td>\n",
       "      <td>...</td>\n",
       "      <td>...</td>\n",
       "      <td>...</td>\n",
       "      <td>...</td>\n",
       "      <td>...</td>\n",
       "      <td>...</td>\n",
       "    </tr>\n",
       "    <tr>\n",
       "      <th>188</th>\n",
       "      <td>미쳤닭</td>\n",
       "      <td>미쳤닭 냉동 생닭가슴살 (200g포장), 200g, 5개</td>\n",
       "      <td>212</td>\n",
       "      <td>14,900원</td>\n",
       "      <td>(100g당 1,490원)</td>\n",
       "      <td>없음</td>\n",
       "      <td>NaN</td>\n",
       "      <td>1,313개</td>\n",
       "    </tr>\n",
       "    <tr>\n",
       "      <th>189</th>\n",
       "      <td>NaN</td>\n",
       "      <td>올계 유기농인증 닭가슴살 (냉동), 300g, 1개</td>\n",
       "      <td>213</td>\n",
       "      <td>12,830원</td>\n",
       "      <td>(100g당 4,277원)</td>\n",
       "      <td>없음</td>\n",
       "      <td>NaN</td>\n",
       "      <td>385개</td>\n",
       "    </tr>\n",
       "    <tr>\n",
       "      <th>190</th>\n",
       "      <td>신선애</td>\n",
       "      <td>신선애 IQF 한입 닭가슴살 1kg, 1kg, 1팩</td>\n",
       "      <td>214</td>\n",
       "      <td>10,500원</td>\n",
       "      <td>NaN</td>\n",
       "      <td>없음</td>\n",
       "      <td>NaN</td>\n",
       "      <td>8개</td>\n",
       "    </tr>\n",
       "    <tr>\n",
       "      <th>191</th>\n",
       "      <td>NaN</td>\n",
       "      <td>풀토래_냉장 닭안심 2kg_국내산, 2kg, 2개</td>\n",
       "      <td>215</td>\n",
       "      <td>27,800원</td>\n",
       "      <td>(100g당 695원)</td>\n",
       "      <td>없음</td>\n",
       "      <td>NaN</td>\n",
       "      <td>2,866개</td>\n",
       "    </tr>\n",
       "    <tr>\n",
       "      <th>192</th>\n",
       "      <td>올품</td>\n",
       "      <td>올품 IQF 닭가슴살 슬라이스, 1kg, 5개</td>\n",
       "      <td>216</td>\n",
       "      <td>42,500원</td>\n",
       "      <td>(100g당 850원)</td>\n",
       "      <td>없음</td>\n",
       "      <td>NaN</td>\n",
       "      <td>28개</td>\n",
       "    </tr>\n",
       "  </tbody>\n",
       "</table>\n",
       "<p>193 rows × 8 columns</p>\n",
       "</div>"
      ],
      "text/plain": [
       "    brand                                      title  rank origin_price  \\\n",
       "0     NaN                 국내산 닭가슴살 10kg. 1kg x 10 냉장     1      55,000원   \n",
       "1      올품              올품 IQF 닭가슴살 1kg x 5봉, 1kg, 5개     2      38,600원   \n",
       "2     NaN           한강식품 IQF 무항생제 닭가슴살 (냉동), 1kg, 5개     3      40,160원   \n",
       "3     NaN                      브린 껍질없는 닭가슴살, 5kg, 1개     4      30,290원   \n",
       "4     NaN  사계림 국내산 냉장 생닭가슴살 2kg포장, 14kg(2kg X..., 7개     5      80,840원   \n",
       "..    ...                                        ...   ...          ...   \n",
       "188   미쳤닭            미쳤닭 냉동 생닭가슴살 (200g포장), 200g, 5개   212      14,900원   \n",
       "189   NaN               올계 유기농인증 닭가슴살 (냉동), 300g, 1개   213      12,830원   \n",
       "190   신선애               신선애 IQF 한입 닭가슴살 1kg, 1kg, 1팩   214      10,500원   \n",
       "191   NaN                풀토래_냉장 닭안심 2kg_국내산, 2kg, 2개   215      27,800원   \n",
       "192    올품                  올품 IQF 닭가슴살 슬라이스, 1kg, 5개   216      42,500원   \n",
       "\n",
       "    origin_unit_price saled_price saled_unit_price review_counts  \n",
       "0        (100g당 550원)          없음              NaN          117개  \n",
       "1        (100g당 772원)          없음              NaN          952개  \n",
       "2        (100g당 803원)          없음              NaN       13,760개  \n",
       "3        (100g당 606원)          없음              NaN          937개  \n",
       "4        (100g당 577원)          없음              NaN           54개  \n",
       "..                ...         ...              ...           ...  \n",
       "188    (100g당 1,490원)          없음              NaN        1,313개  \n",
       "189    (100g당 4,277원)          없음              NaN          385개  \n",
       "190               NaN          없음              NaN            8개  \n",
       "191      (100g당 695원)          없음              NaN        2,866개  \n",
       "192      (100g당 850원)          없음              NaN           28개  \n",
       "\n",
       "[193 rows x 8 columns]"
      ]
     },
     "execution_count": 355,
     "metadata": {},
     "output_type": "execute_result"
    }
   ],
   "source": [
    "df"
   ]
  },
  {
   "cell_type": "code",
   "execution_count": 356,
   "id": "570911ad",
   "metadata": {},
   "outputs": [],
   "source": [
    "# df.dropna(inplace=True) --> X"
   ]
  },
  {
   "cell_type": "markdown",
   "id": "b30f3c6d",
   "metadata": {},
   "source": [
    "---"
   ]
  },
  {
   "cell_type": "markdown",
   "id": "84987a8c",
   "metadata": {
    "slideshow": {
     "slide_type": "slide"
    }
   },
   "source": [
    "# 4. 분석계획"
   ]
  },
  {
   "cell_type": "markdown",
   "id": "b7bdac96",
   "metadata": {
    "slideshow": {
     "slide_type": "subslide"
    }
   },
   "source": [
    "`가설 검정을 위한 방법`\n",
    "\n",
    "1. 그래프를 통한 시각적 자료 해석\n",
    "2. 통계적 지표 : 평균, 중앙값, 분산...\n",
    "3. 통계적 검정 방법 (T-test, Chi Square Test, ANOVA...) 이건 나중에..."
   ]
  },
  {
   "cell_type": "markdown",
   "id": "ec7495f5",
   "metadata": {
    "slideshow": {
     "slide_type": "subslide"
    }
   },
   "source": [
    "`2_1번 가설` : 쿠팡 검색 랭킹이 높을 수록, 상품평 수가 많을 것이다.\n",
    "\n",
    "--> 쿠팡 검색 랭킹과 상품평 수의 관계를 파악해야함\n",
    "\n",
    "1) 시각화\n",
    "2) 통계적 지표 (그룹간 비교 ex) 상위 30% 그룹, 하위 30% 그룹, 나머지\n",
    "\n",
    "`2_2번 가설` : 제품 무게가 무거울수록 (대용량 제품일수록), 100g당 가격이 저렴할 것이다.\n",
    "* 데이터 생성 필요\n",
    "1) 시각화\n",
    "2) 통계적 지표 (그룹간 비교 ex) 상위 30% 그룹, 하위 30% 그룹, 나머지"
   ]
  },
  {
   "cell_type": "markdown",
   "id": "1642eb84",
   "metadata": {},
   "source": [
    "---"
   ]
  },
  {
   "cell_type": "markdown",
   "id": "c0a992db",
   "metadata": {
    "slideshow": {
     "slide_type": "slide"
    }
   },
   "source": [
    "# 5. 분석결과\n"
   ]
  },
  {
   "cell_type": "markdown",
   "id": "d8a50eb0",
   "metadata": {
    "slideshow": {
     "slide_type": "slide"
    }
   },
   "source": [
    "## 2_1번 가설 : 쿠팡 검색 랭킹이 높을 수록, 상품평 수가 많을 것이다.\n"
   ]
  },
  {
   "cell_type": "code",
   "execution_count": 357,
   "id": "fd24b86e",
   "metadata": {
    "slideshow": {
     "slide_type": "subslide"
    }
   },
   "outputs": [],
   "source": [
    "df_1 = df[['rank', 'review_counts']]"
   ]
  },
  {
   "cell_type": "code",
   "execution_count": 358,
   "id": "e5697a34",
   "metadata": {
    "slideshow": {
     "slide_type": "subslide"
    }
   },
   "outputs": [
    {
     "data": {
      "text/html": [
       "<div>\n",
       "<style scoped>\n",
       "    .dataframe tbody tr th:only-of-type {\n",
       "        vertical-align: middle;\n",
       "    }\n",
       "\n",
       "    .dataframe tbody tr th {\n",
       "        vertical-align: top;\n",
       "    }\n",
       "\n",
       "    .dataframe thead th {\n",
       "        text-align: right;\n",
       "    }\n",
       "</style>\n",
       "<table border=\"1\" class=\"dataframe\">\n",
       "  <thead>\n",
       "    <tr style=\"text-align: right;\">\n",
       "      <th></th>\n",
       "      <th>rank</th>\n",
       "      <th>review_counts</th>\n",
       "    </tr>\n",
       "  </thead>\n",
       "  <tbody>\n",
       "    <tr>\n",
       "      <th>0</th>\n",
       "      <td>1</td>\n",
       "      <td>117개</td>\n",
       "    </tr>\n",
       "    <tr>\n",
       "      <th>1</th>\n",
       "      <td>2</td>\n",
       "      <td>952개</td>\n",
       "    </tr>\n",
       "    <tr>\n",
       "      <th>2</th>\n",
       "      <td>3</td>\n",
       "      <td>13,760개</td>\n",
       "    </tr>\n",
       "    <tr>\n",
       "      <th>3</th>\n",
       "      <td>4</td>\n",
       "      <td>937개</td>\n",
       "    </tr>\n",
       "    <tr>\n",
       "      <th>4</th>\n",
       "      <td>5</td>\n",
       "      <td>54개</td>\n",
       "    </tr>\n",
       "  </tbody>\n",
       "</table>\n",
       "</div>"
      ],
      "text/plain": [
       "   rank review_counts\n",
       "0     1          117개\n",
       "1     2          952개\n",
       "2     3       13,760개\n",
       "3     4          937개\n",
       "4     5           54개"
      ]
     },
     "execution_count": 358,
     "metadata": {},
     "output_type": "execute_result"
    }
   ],
   "source": [
    "df_1.head()"
   ]
  },
  {
   "cell_type": "code",
   "execution_count": 359,
   "id": "a11586c6",
   "metadata": {
    "slideshow": {
     "slide_type": "subslide"
    }
   },
   "outputs": [
    {
     "name": "stdout",
     "output_type": "stream",
     "text": [
      "<class 'pandas.core.frame.DataFrame'>\n",
      "RangeIndex: 193 entries, 0 to 192\n",
      "Data columns (total 2 columns):\n",
      " #   Column         Non-Null Count  Dtype \n",
      "---  ------         --------------  ----- \n",
      " 0   rank           193 non-null    int64 \n",
      " 1   review_counts  193 non-null    object\n",
      "dtypes: int64(1), object(1)\n",
      "memory usage: 3.1+ KB\n"
     ]
    }
   ],
   "source": [
    "df_1.info()"
   ]
  },
  {
   "cell_type": "code",
   "execution_count": 360,
   "id": "12fa22c7",
   "metadata": {
    "slideshow": {
     "slide_type": "subslide"
    }
   },
   "outputs": [],
   "source": [
    "only_int_list=[]\n",
    "\n",
    "for row in df_1['review_counts']:\n",
    "    only_int=\"\"\n",
    "    for char in row:\n",
    "        if(char.isdigit()):\n",
    "            only_int+=char\n",
    "    only_int_list.append(int(only_int))\n",
    "\n",
    "df_1['review_counts'] = only_int_list"
   ]
  },
  {
   "cell_type": "code",
   "execution_count": 361,
   "id": "50759d98",
   "metadata": {
    "slideshow": {
     "slide_type": "subslide"
    }
   },
   "outputs": [
    {
     "data": {
      "text/html": [
       "<div>\n",
       "<style scoped>\n",
       "    .dataframe tbody tr th:only-of-type {\n",
       "        vertical-align: middle;\n",
       "    }\n",
       "\n",
       "    .dataframe tbody tr th {\n",
       "        vertical-align: top;\n",
       "    }\n",
       "\n",
       "    .dataframe thead th {\n",
       "        text-align: right;\n",
       "    }\n",
       "</style>\n",
       "<table border=\"1\" class=\"dataframe\">\n",
       "  <thead>\n",
       "    <tr style=\"text-align: right;\">\n",
       "      <th></th>\n",
       "      <th>rank</th>\n",
       "      <th>review_counts</th>\n",
       "    </tr>\n",
       "  </thead>\n",
       "  <tbody>\n",
       "    <tr>\n",
       "      <th>0</th>\n",
       "      <td>1</td>\n",
       "      <td>117</td>\n",
       "    </tr>\n",
       "    <tr>\n",
       "      <th>1</th>\n",
       "      <td>2</td>\n",
       "      <td>952</td>\n",
       "    </tr>\n",
       "    <tr>\n",
       "      <th>2</th>\n",
       "      <td>3</td>\n",
       "      <td>13760</td>\n",
       "    </tr>\n",
       "    <tr>\n",
       "      <th>3</th>\n",
       "      <td>4</td>\n",
       "      <td>937</td>\n",
       "    </tr>\n",
       "    <tr>\n",
       "      <th>4</th>\n",
       "      <td>5</td>\n",
       "      <td>54</td>\n",
       "    </tr>\n",
       "  </tbody>\n",
       "</table>\n",
       "</div>"
      ],
      "text/plain": [
       "   rank  review_counts\n",
       "0     1            117\n",
       "1     2            952\n",
       "2     3          13760\n",
       "3     4            937\n",
       "4     5             54"
      ]
     },
     "execution_count": 361,
     "metadata": {},
     "output_type": "execute_result"
    }
   ],
   "source": [
    "df_1.head()"
   ]
  },
  {
   "cell_type": "code",
   "execution_count": 362,
   "id": "1d8b2412",
   "metadata": {
    "slideshow": {
     "slide_type": "subslide"
    }
   },
   "outputs": [
    {
     "name": "stdout",
     "output_type": "stream",
     "text": [
      "<class 'pandas.core.frame.DataFrame'>\n",
      "RangeIndex: 193 entries, 0 to 192\n",
      "Data columns (total 2 columns):\n",
      " #   Column         Non-Null Count  Dtype\n",
      "---  ------         --------------  -----\n",
      " 0   rank           193 non-null    int64\n",
      " 1   review_counts  193 non-null    int64\n",
      "dtypes: int64(2)\n",
      "memory usage: 3.1 KB\n"
     ]
    }
   ],
   "source": [
    "df_1.info()"
   ]
  },
  {
   "cell_type": "markdown",
   "id": "a2e405dc",
   "metadata": {},
   "source": [
    "### `2_1 가설 시각화 및 결과 해석`"
   ]
  },
  {
   "cell_type": "code",
   "execution_count": 363,
   "id": "e3e6d84f",
   "metadata": {
    "scrolled": true,
    "slideshow": {
     "slide_type": "slide"
    }
   },
   "outputs": [
    {
     "data": {
      "image/png": "[encoded data removed]",
      "text/plain": [
       "<Figure size 640x480 with 1 Axes>"
      ]
     },
     "metadata": {},
     "output_type": "display_data"
    }
   ],
   "source": [
    "import matplotlib.pyplot as plt\n",
    "\n",
    "plt.plot(df_1['rank'], df_1['review_counts'])\n",
    "plt.xlabel('제품 순위')\n",
    "plt.ylabel('리뷰 수')\n",
    "plt.title(\"제품 순위와 리뷰 수의 관계\")\n",
    "plt.show()"
   ]
  },
  {
   "cell_type": "markdown",
   "id": "cffff918",
   "metadata": {
    "slideshow": {
     "slide_type": "subslide"
    }
   },
   "source": [
    " 1위 ~ 50위까지에 리뷰수가 높은 제품이 다수 존재하나, 그 분산이 매우 크다.\n",
    "\n",
    "중간 그룹은 리뷰수가 매우 적으며, 오히려 180 ~ 200의 후반부에 다시 리뷰수가 높은 제품이 다시 등장한다."
   ]
  },
  {
   "cell_type": "markdown",
   "id": "115c2461",
   "metadata": {},
   "source": [
    "### `2_1 가설 통계 지표 및 결과 해석`"
   ]
  },
  {
   "cell_type": "code",
   "execution_count": 364,
   "id": "af3a8f40",
   "metadata": {
    "slideshow": {
     "slide_type": "slide"
    }
   },
   "outputs": [],
   "source": [
    "# 데이터를 3개의 그룹으로 분할\n",
    "group_num=int(len(df_1)//3)\n",
    "group_1=df_1.iloc[:group_num]\n",
    "group_2=df_1.iloc[group_num:group_num*2]\n",
    "group_3=df_1.iloc[group_num*2:]\n",
    "\n",
    "# 예를들어 인덱스 기준 0부터 9까지 10개의 행이 있으면\n",
    "# group_num = int(10//3) = 3\n",
    "# group_1 = 0, 1, 2 ( :3)\n",
    "# group_2 = 3, 4, 5 (3:6)\n",
    "# group_3 = 6, 7, 8, 9 (6:)"
   ]
  },
  {
   "cell_type": "code",
   "execution_count": 365,
   "id": "31930730",
   "metadata": {
    "slideshow": {
     "slide_type": "subslide"
    }
   },
   "outputs": [
    {
     "data": {
      "text/html": [
       "<div>\n",
       "<style scoped>\n",
       "    .dataframe tbody tr th:only-of-type {\n",
       "        vertical-align: middle;\n",
       "    }\n",
       "\n",
       "    .dataframe tbody tr th {\n",
       "        vertical-align: top;\n",
       "    }\n",
       "\n",
       "    .dataframe thead th {\n",
       "        text-align: right;\n",
       "    }\n",
       "</style>\n",
       "<table border=\"1\" class=\"dataframe\">\n",
       "  <thead>\n",
       "    <tr style=\"text-align: right;\">\n",
       "      <th></th>\n",
       "      <th>rank</th>\n",
       "      <th>review_counts</th>\n",
       "    </tr>\n",
       "  </thead>\n",
       "  <tbody>\n",
       "    <tr>\n",
       "      <th>count</th>\n",
       "      <td>64.000000</td>\n",
       "      <td>64.00000</td>\n",
       "    </tr>\n",
       "    <tr>\n",
       "      <th>mean</th>\n",
       "      <td>32.500000</td>\n",
       "      <td>9062.59375</td>\n",
       "    </tr>\n",
       "    <tr>\n",
       "      <th>std</th>\n",
       "      <td>18.618987</td>\n",
       "      <td>19902.19527</td>\n",
       "    </tr>\n",
       "    <tr>\n",
       "      <th>min</th>\n",
       "      <td>1.000000</td>\n",
       "      <td>3.00000</td>\n",
       "    </tr>\n",
       "    <tr>\n",
       "      <th>25%</th>\n",
       "      <td>16.750000</td>\n",
       "      <td>125.25000</td>\n",
       "    </tr>\n",
       "    <tr>\n",
       "      <th>50%</th>\n",
       "      <td>32.500000</td>\n",
       "      <td>952.00000</td>\n",
       "    </tr>\n",
       "    <tr>\n",
       "      <th>75%</th>\n",
       "      <td>48.250000</td>\n",
       "      <td>4514.25000</td>\n",
       "    </tr>\n",
       "    <tr>\n",
       "      <th>max</th>\n",
       "      <td>64.000000</td>\n",
       "      <td>91399.00000</td>\n",
       "    </tr>\n",
       "  </tbody>\n",
       "</table>\n",
       "</div>"
      ],
      "text/plain": [
       "            rank  review_counts\n",
       "count  64.000000       64.00000\n",
       "mean   32.500000     9062.59375\n",
       "std    18.618987    19902.19527\n",
       "min     1.000000        3.00000\n",
       "25%    16.750000      125.25000\n",
       "50%    32.500000      952.00000\n",
       "75%    48.250000     4514.25000\n",
       "max    64.000000    91399.00000"
      ]
     },
     "execution_count": 365,
     "metadata": {},
     "output_type": "execute_result"
    }
   ],
   "source": [
    "group_1.describe()"
   ]
  },
  {
   "cell_type": "code",
   "execution_count": 366,
   "id": "57ef07e3",
   "metadata": {
    "slideshow": {
     "slide_type": "subslide"
    }
   },
   "outputs": [
    {
     "data": {
      "text/html": [
       "<div>\n",
       "<style scoped>\n",
       "    .dataframe tbody tr th:only-of-type {\n",
       "        vertical-align: middle;\n",
       "    }\n",
       "\n",
       "    .dataframe tbody tr th {\n",
       "        vertical-align: top;\n",
       "    }\n",
       "\n",
       "    .dataframe thead th {\n",
       "        text-align: right;\n",
       "    }\n",
       "</style>\n",
       "<table border=\"1\" class=\"dataframe\">\n",
       "  <thead>\n",
       "    <tr style=\"text-align: right;\">\n",
       "      <th></th>\n",
       "      <th>rank</th>\n",
       "      <th>review_counts</th>\n",
       "    </tr>\n",
       "  </thead>\n",
       "  <tbody>\n",
       "    <tr>\n",
       "      <th>count</th>\n",
       "      <td>64.000000</td>\n",
       "      <td>64.000000</td>\n",
       "    </tr>\n",
       "    <tr>\n",
       "      <th>mean</th>\n",
       "      <td>101.546875</td>\n",
       "      <td>1324.734375</td>\n",
       "    </tr>\n",
       "    <tr>\n",
       "      <th>std</th>\n",
       "      <td>22.191754</td>\n",
       "      <td>2147.523559</td>\n",
       "    </tr>\n",
       "    <tr>\n",
       "      <th>min</th>\n",
       "      <td>65.000000</td>\n",
       "      <td>0.000000</td>\n",
       "    </tr>\n",
       "    <tr>\n",
       "      <th>25%</th>\n",
       "      <td>81.750000</td>\n",
       "      <td>19.500000</td>\n",
       "    </tr>\n",
       "    <tr>\n",
       "      <th>50%</th>\n",
       "      <td>101.500000</td>\n",
       "      <td>178.000000</td>\n",
       "    </tr>\n",
       "    <tr>\n",
       "      <th>75%</th>\n",
       "      <td>118.750000</td>\n",
       "      <td>1402.000000</td>\n",
       "    </tr>\n",
       "    <tr>\n",
       "      <th>max</th>\n",
       "      <td>141.000000</td>\n",
       "      <td>9899.000000</td>\n",
       "    </tr>\n",
       "  </tbody>\n",
       "</table>\n",
       "</div>"
      ],
      "text/plain": [
       "             rank  review_counts\n",
       "count   64.000000      64.000000\n",
       "mean   101.546875    1324.734375\n",
       "std     22.191754    2147.523559\n",
       "min     65.000000       0.000000\n",
       "25%     81.750000      19.500000\n",
       "50%    101.500000     178.000000\n",
       "75%    118.750000    1402.000000\n",
       "max    141.000000    9899.000000"
      ]
     },
     "execution_count": 366,
     "metadata": {},
     "output_type": "execute_result"
    }
   ],
   "source": [
    "group_2.describe()"
   ]
  },
  {
   "cell_type": "code",
   "execution_count": 367,
   "id": "093d803f",
   "metadata": {
    "slideshow": {
     "slide_type": "subslide"
    }
   },
   "outputs": [
    {
     "data": {
      "text/html": [
       "<div>\n",
       "<style scoped>\n",
       "    .dataframe tbody tr th:only-of-type {\n",
       "        vertical-align: middle;\n",
       "    }\n",
       "\n",
       "    .dataframe tbody tr th {\n",
       "        vertical-align: top;\n",
       "    }\n",
       "\n",
       "    .dataframe thead th {\n",
       "        text-align: right;\n",
       "    }\n",
       "</style>\n",
       "<table border=\"1\" class=\"dataframe\">\n",
       "  <thead>\n",
       "    <tr style=\"text-align: right;\">\n",
       "      <th></th>\n",
       "      <th>rank</th>\n",
       "      <th>review_counts</th>\n",
       "    </tr>\n",
       "  </thead>\n",
       "  <tbody>\n",
       "    <tr>\n",
       "      <th>count</th>\n",
       "      <td>65.000000</td>\n",
       "      <td>65.000000</td>\n",
       "    </tr>\n",
       "    <tr>\n",
       "      <th>mean</th>\n",
       "      <td>182.846154</td>\n",
       "      <td>4661.507692</td>\n",
       "    </tr>\n",
       "    <tr>\n",
       "      <th>std</th>\n",
       "      <td>19.658197</td>\n",
       "      <td>12106.116756</td>\n",
       "    </tr>\n",
       "    <tr>\n",
       "      <th>min</th>\n",
       "      <td>142.000000</td>\n",
       "      <td>0.000000</td>\n",
       "    </tr>\n",
       "    <tr>\n",
       "      <th>25%</th>\n",
       "      <td>167.000000</td>\n",
       "      <td>50.000000</td>\n",
       "    </tr>\n",
       "    <tr>\n",
       "      <th>50%</th>\n",
       "      <td>183.000000</td>\n",
       "      <td>397.000000</td>\n",
       "    </tr>\n",
       "    <tr>\n",
       "      <th>75%</th>\n",
       "      <td>199.000000</td>\n",
       "      <td>1669.000000</td>\n",
       "    </tr>\n",
       "    <tr>\n",
       "      <th>max</th>\n",
       "      <td>216.000000</td>\n",
       "      <td>53287.000000</td>\n",
       "    </tr>\n",
       "  </tbody>\n",
       "</table>\n",
       "</div>"
      ],
      "text/plain": [
       "             rank  review_counts\n",
       "count   65.000000      65.000000\n",
       "mean   182.846154    4661.507692\n",
       "std     19.658197   12106.116756\n",
       "min    142.000000       0.000000\n",
       "25%    167.000000      50.000000\n",
       "50%    183.000000     397.000000\n",
       "75%    199.000000    1669.000000\n",
       "max    216.000000   53287.000000"
      ]
     },
     "execution_count": 367,
     "metadata": {},
     "output_type": "execute_result"
    }
   ],
   "source": [
    "group_3.describe()"
   ]
  },
  {
   "cell_type": "markdown",
   "id": "aa2b7852",
   "metadata": {
    "slideshow": {
     "slide_type": "subslide"
    }
   },
   "source": [
    "`group_1 (상위 30%)`\n",
    "\n",
    "제품 별 평균 리뷰 수 : 9062개\n",
    "\n",
    "표준 편차 : 19902개\n",
    "\n",
    "`group_2 (중위 30%)`\n",
    "\n",
    "제품 별 평균 리뷰 수 : 1324개\n",
    "\n",
    "표준 편차 : 2147개\n",
    "\n",
    "`group_3 (하위 30%)`\n",
    "\n",
    "제품 별 평균 리뷰 수 : 4661개\n",
    "\n",
    "표준 편차 : 12106개\n",
    "\n"
   ]
  },
  {
   "cell_type": "markdown",
   "id": "23b6ae7d",
   "metadata": {
    "slideshow": {
     "slide_type": "subslide"
    }
   },
   "source": [
    "### `그룹별 통계 지표 해석`\n",
    "시각화 결과와 마찬가지로, 평균 리뷰 수의 경우에는 상위, 하위, 중위 그룹 순서대로 높지만, 각 그룹마다 표준편차가 매우 크다."
   ]
  },
  {
   "cell_type": "markdown",
   "id": "04f1bacd",
   "metadata": {},
   "source": [
    "---"
   ]
  },
  {
   "cell_type": "markdown",
   "id": "dc18c13f",
   "metadata": {
    "slideshow": {
     "slide_type": "slide"
    }
   },
   "source": [
    "## 가설 1 최종 결론"
   ]
  },
  {
   "cell_type": "markdown",
   "id": "85ccb6b2",
   "metadata": {
    "slideshow": {
     "slide_type": "subslide"
    }
   },
   "source": [
    "200개 가량의 제품을 분석한 결과, **평균적인 리뷰수의 경우 검색순위 상위 그룹이 비교불가능할 정도로 높지만, 그 분산 (표준편차)이 매우 크다.**\n",
    "\n",
    "따라서 \"검색 랭킹이 높을 수록 리뷰수가 많다\"는 가설을 체택할 수 있을 정도의 경향이 있다고 보기는 어렵다.\n",
    "\n",
    "하지만, \"검색 랭킹이 높은 그룹내의 소수의 제품이 리뷰수의 다수를 차지한다.\"는 현상과, \"50위를 넘어가는 순간 제품 별 리뷰수가 확연히 떨어진다.\"는 유의미한 현상을 발견했다.\n",
    "\n",
    "이는 곧 **\"다수의 사람들이 50위 너머를 검색하기 전에 이미 앞에서 구매를 결정하기 때문에 그 뒤로는 리뷰가 적게 생기는 것일 수 있다\"** 는 시사점을 제시한다.\n",
    "\n",
    "또는 쿠팡의 추천 시스템이 리뷰수보다는 다른 요인 (가격 등)을 중요시 하기 때문일 수 있다."
   ]
  },
  {
   "cell_type": "markdown",
   "id": "85ff5994",
   "metadata": {},
   "source": [
    "---"
   ]
  },
  {
   "cell_type": "code",
   "execution_count": 368,
   "id": "05051fea",
   "metadata": {},
   "outputs": [
    {
     "data": {
      "text/html": [
       "<div>\n",
       "<style scoped>\n",
       "    .dataframe tbody tr th:only-of-type {\n",
       "        vertical-align: middle;\n",
       "    }\n",
       "\n",
       "    .dataframe tbody tr th {\n",
       "        vertical-align: top;\n",
       "    }\n",
       "\n",
       "    .dataframe thead th {\n",
       "        text-align: right;\n",
       "    }\n",
       "</style>\n",
       "<table border=\"1\" class=\"dataframe\">\n",
       "  <thead>\n",
       "    <tr style=\"text-align: right;\">\n",
       "      <th></th>\n",
       "      <th>brand</th>\n",
       "      <th>title</th>\n",
       "      <th>rank</th>\n",
       "      <th>origin_price</th>\n",
       "      <th>origin_unit_price</th>\n",
       "      <th>saled_price</th>\n",
       "      <th>saled_unit_price</th>\n",
       "      <th>review_counts</th>\n",
       "    </tr>\n",
       "  </thead>\n",
       "  <tbody>\n",
       "    <tr>\n",
       "      <th>0</th>\n",
       "      <td>NaN</td>\n",
       "      <td>국내산 닭가슴살 10kg. 1kg x 10 냉장</td>\n",
       "      <td>1</td>\n",
       "      <td>55,000원</td>\n",
       "      <td>(100g당 550원)</td>\n",
       "      <td>없음</td>\n",
       "      <td>NaN</td>\n",
       "      <td>117개</td>\n",
       "    </tr>\n",
       "    <tr>\n",
       "      <th>1</th>\n",
       "      <td>올품</td>\n",
       "      <td>올품 IQF 닭가슴살 1kg x 5봉, 1kg, 5개</td>\n",
       "      <td>2</td>\n",
       "      <td>38,600원</td>\n",
       "      <td>(100g당 772원)</td>\n",
       "      <td>없음</td>\n",
       "      <td>NaN</td>\n",
       "      <td>952개</td>\n",
       "    </tr>\n",
       "    <tr>\n",
       "      <th>2</th>\n",
       "      <td>NaN</td>\n",
       "      <td>한강식품 IQF 무항생제 닭가슴살 (냉동), 1kg, 5개</td>\n",
       "      <td>3</td>\n",
       "      <td>40,160원</td>\n",
       "      <td>(100g당 803원)</td>\n",
       "      <td>없음</td>\n",
       "      <td>NaN</td>\n",
       "      <td>13,760개</td>\n",
       "    </tr>\n",
       "    <tr>\n",
       "      <th>3</th>\n",
       "      <td>NaN</td>\n",
       "      <td>브린 껍질없는 닭가슴살, 5kg, 1개</td>\n",
       "      <td>4</td>\n",
       "      <td>30,290원</td>\n",
       "      <td>(100g당 606원)</td>\n",
       "      <td>없음</td>\n",
       "      <td>NaN</td>\n",
       "      <td>937개</td>\n",
       "    </tr>\n",
       "    <tr>\n",
       "      <th>4</th>\n",
       "      <td>NaN</td>\n",
       "      <td>사계림 국내산 냉장 생닭가슴살 2kg포장, 14kg(2kg X..., 7개</td>\n",
       "      <td>5</td>\n",
       "      <td>80,840원</td>\n",
       "      <td>(100g당 577원)</td>\n",
       "      <td>없음</td>\n",
       "      <td>NaN</td>\n",
       "      <td>54개</td>\n",
       "    </tr>\n",
       "    <tr>\n",
       "      <th>...</th>\n",
       "      <td>...</td>\n",
       "      <td>...</td>\n",
       "      <td>...</td>\n",
       "      <td>...</td>\n",
       "      <td>...</td>\n",
       "      <td>...</td>\n",
       "      <td>...</td>\n",
       "      <td>...</td>\n",
       "    </tr>\n",
       "    <tr>\n",
       "      <th>188</th>\n",
       "      <td>미쳤닭</td>\n",
       "      <td>미쳤닭 냉동 생닭가슴살 (200g포장), 200g, 5개</td>\n",
       "      <td>212</td>\n",
       "      <td>14,900원</td>\n",
       "      <td>(100g당 1,490원)</td>\n",
       "      <td>없음</td>\n",
       "      <td>NaN</td>\n",
       "      <td>1,313개</td>\n",
       "    </tr>\n",
       "    <tr>\n",
       "      <th>189</th>\n",
       "      <td>NaN</td>\n",
       "      <td>올계 유기농인증 닭가슴살 (냉동), 300g, 1개</td>\n",
       "      <td>213</td>\n",
       "      <td>12,830원</td>\n",
       "      <td>(100g당 4,277원)</td>\n",
       "      <td>없음</td>\n",
       "      <td>NaN</td>\n",
       "      <td>385개</td>\n",
       "    </tr>\n",
       "    <tr>\n",
       "      <th>190</th>\n",
       "      <td>신선애</td>\n",
       "      <td>신선애 IQF 한입 닭가슴살 1kg, 1kg, 1팩</td>\n",
       "      <td>214</td>\n",
       "      <td>10,500원</td>\n",
       "      <td>NaN</td>\n",
       "      <td>없음</td>\n",
       "      <td>NaN</td>\n",
       "      <td>8개</td>\n",
       "    </tr>\n",
       "    <tr>\n",
       "      <th>191</th>\n",
       "      <td>NaN</td>\n",
       "      <td>풀토래_냉장 닭안심 2kg_국내산, 2kg, 2개</td>\n",
       "      <td>215</td>\n",
       "      <td>27,800원</td>\n",
       "      <td>(100g당 695원)</td>\n",
       "      <td>없음</td>\n",
       "      <td>NaN</td>\n",
       "      <td>2,866개</td>\n",
       "    </tr>\n",
       "    <tr>\n",
       "      <th>192</th>\n",
       "      <td>올품</td>\n",
       "      <td>올품 IQF 닭가슴살 슬라이스, 1kg, 5개</td>\n",
       "      <td>216</td>\n",
       "      <td>42,500원</td>\n",
       "      <td>(100g당 850원)</td>\n",
       "      <td>없음</td>\n",
       "      <td>NaN</td>\n",
       "      <td>28개</td>\n",
       "    </tr>\n",
       "  </tbody>\n",
       "</table>\n",
       "<p>193 rows × 8 columns</p>\n",
       "</div>"
      ],
      "text/plain": [
       "    brand                                      title  rank origin_price  \\\n",
       "0     NaN                 국내산 닭가슴살 10kg. 1kg x 10 냉장     1      55,000원   \n",
       "1      올품              올품 IQF 닭가슴살 1kg x 5봉, 1kg, 5개     2      38,600원   \n",
       "2     NaN           한강식품 IQF 무항생제 닭가슴살 (냉동), 1kg, 5개     3      40,160원   \n",
       "3     NaN                      브린 껍질없는 닭가슴살, 5kg, 1개     4      30,290원   \n",
       "4     NaN  사계림 국내산 냉장 생닭가슴살 2kg포장, 14kg(2kg X..., 7개     5      80,840원   \n",
       "..    ...                                        ...   ...          ...   \n",
       "188   미쳤닭            미쳤닭 냉동 생닭가슴살 (200g포장), 200g, 5개   212      14,900원   \n",
       "189   NaN               올계 유기농인증 닭가슴살 (냉동), 300g, 1개   213      12,830원   \n",
       "190   신선애               신선애 IQF 한입 닭가슴살 1kg, 1kg, 1팩   214      10,500원   \n",
       "191   NaN                풀토래_냉장 닭안심 2kg_국내산, 2kg, 2개   215      27,800원   \n",
       "192    올품                  올품 IQF 닭가슴살 슬라이스, 1kg, 5개   216      42,500원   \n",
       "\n",
       "    origin_unit_price saled_price saled_unit_price review_counts  \n",
       "0        (100g당 550원)          없음              NaN          117개  \n",
       "1        (100g당 772원)          없음              NaN          952개  \n",
       "2        (100g당 803원)          없음              NaN       13,760개  \n",
       "3        (100g당 606원)          없음              NaN          937개  \n",
       "4        (100g당 577원)          없음              NaN           54개  \n",
       "..                ...         ...              ...           ...  \n",
       "188    (100g당 1,490원)          없음              NaN        1,313개  \n",
       "189    (100g당 4,277원)          없음              NaN          385개  \n",
       "190               NaN          없음              NaN            8개  \n",
       "191      (100g당 695원)          없음              NaN        2,866개  \n",
       "192      (100g당 850원)          없음              NaN           28개  \n",
       "\n",
       "[193 rows x 8 columns]"
      ]
     },
     "execution_count": 368,
     "metadata": {},
     "output_type": "execute_result"
    }
   ],
   "source": [
    "df"
   ]
  },
  {
   "cell_type": "markdown",
   "id": "cd7ab4cb",
   "metadata": {
    "slideshow": {
     "slide_type": "slide"
    }
   },
   "source": [
    "## 2_2번 가설 : 제품의 총중량이 무거울수록 (대용량 제품일수록), 100g당 가격이 저렴할 것이다."
   ]
  },
  {
   "cell_type": "markdown",
   "id": "fc0cc43b",
   "metadata": {},
   "source": [
    "단위 : 단위별 가격 = 총 중량 : 총 가격"
   ]
  },
  {
   "cell_type": "code",
   "execution_count": 384,
   "id": "c04ce47c",
   "metadata": {
    "slideshow": {
     "slide_type": "subslide"
    }
   },
   "outputs": [],
   "source": [
    "df_2 = df[[\"title\", \"origin_price\", \"origin_unit_price\"]]"
   ]
  },
  {
   "cell_type": "code",
   "execution_count": 385,
   "id": "d52d6b93",
   "metadata": {
    "slideshow": {
     "slide_type": "subslide"
    }
   },
   "outputs": [
    {
     "data": {
      "text/html": [
       "<div>\n",
       "<style scoped>\n",
       "    .dataframe tbody tr th:only-of-type {\n",
       "        vertical-align: middle;\n",
       "    }\n",
       "\n",
       "    .dataframe tbody tr th {\n",
       "        vertical-align: top;\n",
       "    }\n",
       "\n",
       "    .dataframe thead th {\n",
       "        text-align: right;\n",
       "    }\n",
       "</style>\n",
       "<table border=\"1\" class=\"dataframe\">\n",
       "  <thead>\n",
       "    <tr style=\"text-align: right;\">\n",
       "      <th></th>\n",
       "      <th>title</th>\n",
       "      <th>origin_price</th>\n",
       "      <th>origin_unit_price</th>\n",
       "    </tr>\n",
       "  </thead>\n",
       "  <tbody>\n",
       "    <tr>\n",
       "      <th>0</th>\n",
       "      <td>국내산 닭가슴살 10kg. 1kg x 10 냉장</td>\n",
       "      <td>55,000원</td>\n",
       "      <td>(100g당 550원)</td>\n",
       "    </tr>\n",
       "    <tr>\n",
       "      <th>1</th>\n",
       "      <td>올품 IQF 닭가슴살 1kg x 5봉, 1kg, 5개</td>\n",
       "      <td>38,600원</td>\n",
       "      <td>(100g당 772원)</td>\n",
       "    </tr>\n",
       "    <tr>\n",
       "      <th>2</th>\n",
       "      <td>한강식품 IQF 무항생제 닭가슴살 (냉동), 1kg, 5개</td>\n",
       "      <td>40,160원</td>\n",
       "      <td>(100g당 803원)</td>\n",
       "    </tr>\n",
       "    <tr>\n",
       "      <th>3</th>\n",
       "      <td>브린 껍질없는 닭가슴살, 5kg, 1개</td>\n",
       "      <td>30,290원</td>\n",
       "      <td>(100g당 606원)</td>\n",
       "    </tr>\n",
       "    <tr>\n",
       "      <th>4</th>\n",
       "      <td>사계림 국내산 냉장 생닭가슴살 2kg포장, 14kg(2kg X..., 7개</td>\n",
       "      <td>80,840원</td>\n",
       "      <td>(100g당 577원)</td>\n",
       "    </tr>\n",
       "  </tbody>\n",
       "</table>\n",
       "</div>"
      ],
      "text/plain": [
       "                                       title origin_price origin_unit_price\n",
       "0                 국내산 닭가슴살 10kg. 1kg x 10 냉장      55,000원      (100g당 550원)\n",
       "1              올품 IQF 닭가슴살 1kg x 5봉, 1kg, 5개      38,600원      (100g당 772원)\n",
       "2           한강식품 IQF 무항생제 닭가슴살 (냉동), 1kg, 5개      40,160원      (100g당 803원)\n",
       "3                      브린 껍질없는 닭가슴살, 5kg, 1개      30,290원      (100g당 606원)\n",
       "4  사계림 국내산 냉장 생닭가슴살 2kg포장, 14kg(2kg X..., 7개      80,840원      (100g당 577원)"
      ]
     },
     "execution_count": 385,
     "metadata": {},
     "output_type": "execute_result"
    }
   ],
   "source": [
    "df_2.head()"
   ]
  },
  {
   "cell_type": "code",
   "execution_count": 386,
   "id": "eb7b0d3e",
   "metadata": {
    "slideshow": {
     "slide_type": "subslide"
    }
   },
   "outputs": [],
   "source": [
    "# 단위별 가격이 없는 행은 제거\n",
    "df_2.dropna(subset=[\"origin_unit_price\"], inplace=True)\n",
    "df_2.reset_index(drop=True, inplace=True)\n",
    "\n",
    "# (100g당 550원) --> 100g('unit') 과 550('unit_price')으로 분리\n",
    "only_unit_list=[]\n",
    "only_unit_price_list=[]\n",
    "for row in df_2['origin_unit_price']:\n",
    "    only_unit=row.split(\"당\")[0][1:-1]\n",
    "    only_unit_price=row.split(\"당\")[1][1:-2].replace(\",\",\"\")\n",
    "    only_unit=int(only_unit)\n",
    "    only_unit_price=int(only_unit_price)\n",
    "    only_unit_list.append(only_unit)\n",
    "    only_unit_price_list.append(only_unit_price)\n",
    "\n",
    "# 원본 프레임 수정\n",
    "df_2['unit'] = only_unit_list\n",
    "df_2['unit_price'] = only_unit_price_list\n",
    "\n",
    "# 100g 당 가격으로 변환\n",
    "df_2['unit_price'] = (df_2['unit_price'] / df_2['unit'] * 100)\n",
    "df_2['unit']=100"
   ]
  },
  {
   "cell_type": "code",
   "execution_count": 388,
   "id": "2d9a9177",
   "metadata": {
    "slideshow": {
     "slide_type": "subslide"
    }
   },
   "outputs": [
    {
     "data": {
      "text/html": [
       "<div>\n",
       "<style scoped>\n",
       "    .dataframe tbody tr th:only-of-type {\n",
       "        vertical-align: middle;\n",
       "    }\n",
       "\n",
       "    .dataframe tbody tr th {\n",
       "        vertical-align: top;\n",
       "    }\n",
       "\n",
       "    .dataframe thead th {\n",
       "        text-align: right;\n",
       "    }\n",
       "</style>\n",
       "<table border=\"1\" class=\"dataframe\">\n",
       "  <thead>\n",
       "    <tr style=\"text-align: right;\">\n",
       "      <th></th>\n",
       "      <th>title</th>\n",
       "      <th>origin_price</th>\n",
       "      <th>origin_unit_price</th>\n",
       "      <th>unit</th>\n",
       "      <th>unit_price</th>\n",
       "    </tr>\n",
       "  </thead>\n",
       "  <tbody>\n",
       "    <tr>\n",
       "      <th>0</th>\n",
       "      <td>국내산 닭가슴살 10kg. 1kg x 10 냉장</td>\n",
       "      <td>55,000원</td>\n",
       "      <td>(100g당 550원)</td>\n",
       "      <td>100</td>\n",
       "      <td>550.0</td>\n",
       "    </tr>\n",
       "    <tr>\n",
       "      <th>1</th>\n",
       "      <td>올품 IQF 닭가슴살 1kg x 5봉, 1kg, 5개</td>\n",
       "      <td>38,600원</td>\n",
       "      <td>(100g당 772원)</td>\n",
       "      <td>100</td>\n",
       "      <td>772.0</td>\n",
       "    </tr>\n",
       "    <tr>\n",
       "      <th>2</th>\n",
       "      <td>한강식품 IQF 무항생제 닭가슴살 (냉동), 1kg, 5개</td>\n",
       "      <td>40,160원</td>\n",
       "      <td>(100g당 803원)</td>\n",
       "      <td>100</td>\n",
       "      <td>803.0</td>\n",
       "    </tr>\n",
       "    <tr>\n",
       "      <th>3</th>\n",
       "      <td>브린 껍질없는 닭가슴살, 5kg, 1개</td>\n",
       "      <td>30,290원</td>\n",
       "      <td>(100g당 606원)</td>\n",
       "      <td>100</td>\n",
       "      <td>606.0</td>\n",
       "    </tr>\n",
       "    <tr>\n",
       "      <th>4</th>\n",
       "      <td>사계림 국내산 냉장 생닭가슴살 2kg포장, 14kg(2kg X..., 7개</td>\n",
       "      <td>80,840원</td>\n",
       "      <td>(100g당 577원)</td>\n",
       "      <td>100</td>\n",
       "      <td>577.0</td>\n",
       "    </tr>\n",
       "  </tbody>\n",
       "</table>\n",
       "</div>"
      ],
      "text/plain": [
       "                                       title origin_price origin_unit_price  \\\n",
       "0                 국내산 닭가슴살 10kg. 1kg x 10 냉장      55,000원      (100g당 550원)   \n",
       "1              올품 IQF 닭가슴살 1kg x 5봉, 1kg, 5개      38,600원      (100g당 772원)   \n",
       "2           한강식품 IQF 무항생제 닭가슴살 (냉동), 1kg, 5개      40,160원      (100g당 803원)   \n",
       "3                      브린 껍질없는 닭가슴살, 5kg, 1개      30,290원      (100g당 606원)   \n",
       "4  사계림 국내산 냉장 생닭가슴살 2kg포장, 14kg(2kg X..., 7개      80,840원      (100g당 577원)   \n",
       "\n",
       "   unit  unit_price  \n",
       "0   100       550.0  \n",
       "1   100       772.0  \n",
       "2   100       803.0  \n",
       "3   100       606.0  \n",
       "4   100       577.0  "
      ]
     },
     "execution_count": 388,
     "metadata": {},
     "output_type": "execute_result"
    }
   ],
   "source": [
    "df_2.head()"
   ]
  },
  {
   "cell_type": "code",
   "execution_count": 389,
   "id": "edc58190",
   "metadata": {},
   "outputs": [
    {
     "name": "stdout",
     "output_type": "stream",
     "text": [
      "<class 'pandas.core.frame.DataFrame'>\n",
      "RangeIndex: 139 entries, 0 to 138\n",
      "Data columns (total 5 columns):\n",
      " #   Column             Non-Null Count  Dtype  \n",
      "---  ------             --------------  -----  \n",
      " 0   title              139 non-null    object \n",
      " 1   origin_price       139 non-null    object \n",
      " 2   origin_unit_price  139 non-null    object \n",
      " 3   unit               139 non-null    int64  \n",
      " 4   unit_price         139 non-null    float64\n",
      "dtypes: float64(1), int64(1), object(3)\n",
      "memory usage: 5.6+ KB\n"
     ]
    }
   ],
   "source": [
    "df_2.info()"
   ]
  },
  {
   "cell_type": "code",
   "execution_count": 390,
   "id": "b028945b",
   "metadata": {
    "scrolled": true,
    "slideshow": {
     "slide_type": "subslide"
    }
   },
   "outputs": [],
   "source": [
    "only_int_list=[]\n",
    "for row in df_2['origin_price']:\n",
    "    only_int=\"\"\n",
    "    for char in row:\n",
    "        if(char.isdigit()):\n",
    "            only_int+=char\n",
    "    only_int_list.append(int(only_int))\n",
    "\n",
    "df_2['origin_price']=only_int_list"
   ]
  },
  {
   "cell_type": "code",
   "execution_count": 391,
   "id": "0a3a0a48",
   "metadata": {},
   "outputs": [
    {
     "data": {
      "text/html": [
       "<div>\n",
       "<style scoped>\n",
       "    .dataframe tbody tr th:only-of-type {\n",
       "        vertical-align: middle;\n",
       "    }\n",
       "\n",
       "    .dataframe tbody tr th {\n",
       "        vertical-align: top;\n",
       "    }\n",
       "\n",
       "    .dataframe thead th {\n",
       "        text-align: right;\n",
       "    }\n",
       "</style>\n",
       "<table border=\"1\" class=\"dataframe\">\n",
       "  <thead>\n",
       "    <tr style=\"text-align: right;\">\n",
       "      <th></th>\n",
       "      <th>title</th>\n",
       "      <th>origin_price</th>\n",
       "      <th>origin_unit_price</th>\n",
       "      <th>unit</th>\n",
       "      <th>unit_price</th>\n",
       "    </tr>\n",
       "  </thead>\n",
       "  <tbody>\n",
       "    <tr>\n",
       "      <th>0</th>\n",
       "      <td>국내산 닭가슴살 10kg. 1kg x 10 냉장</td>\n",
       "      <td>55000</td>\n",
       "      <td>(100g당 550원)</td>\n",
       "      <td>100</td>\n",
       "      <td>550.0</td>\n",
       "    </tr>\n",
       "    <tr>\n",
       "      <th>1</th>\n",
       "      <td>올품 IQF 닭가슴살 1kg x 5봉, 1kg, 5개</td>\n",
       "      <td>38600</td>\n",
       "      <td>(100g당 772원)</td>\n",
       "      <td>100</td>\n",
       "      <td>772.0</td>\n",
       "    </tr>\n",
       "    <tr>\n",
       "      <th>2</th>\n",
       "      <td>한강식품 IQF 무항생제 닭가슴살 (냉동), 1kg, 5개</td>\n",
       "      <td>40160</td>\n",
       "      <td>(100g당 803원)</td>\n",
       "      <td>100</td>\n",
       "      <td>803.0</td>\n",
       "    </tr>\n",
       "    <tr>\n",
       "      <th>3</th>\n",
       "      <td>브린 껍질없는 닭가슴살, 5kg, 1개</td>\n",
       "      <td>30290</td>\n",
       "      <td>(100g당 606원)</td>\n",
       "      <td>100</td>\n",
       "      <td>606.0</td>\n",
       "    </tr>\n",
       "    <tr>\n",
       "      <th>4</th>\n",
       "      <td>사계림 국내산 냉장 생닭가슴살 2kg포장, 14kg(2kg X..., 7개</td>\n",
       "      <td>80840</td>\n",
       "      <td>(100g당 577원)</td>\n",
       "      <td>100</td>\n",
       "      <td>577.0</td>\n",
       "    </tr>\n",
       "  </tbody>\n",
       "</table>\n",
       "</div>"
      ],
      "text/plain": [
       "                                       title  origin_price origin_unit_price  \\\n",
       "0                 국내산 닭가슴살 10kg. 1kg x 10 냉장         55000      (100g당 550원)   \n",
       "1              올품 IQF 닭가슴살 1kg x 5봉, 1kg, 5개         38600      (100g당 772원)   \n",
       "2           한강식품 IQF 무항생제 닭가슴살 (냉동), 1kg, 5개         40160      (100g당 803원)   \n",
       "3                      브린 껍질없는 닭가슴살, 5kg, 1개         30290      (100g당 606원)   \n",
       "4  사계림 국내산 냉장 생닭가슴살 2kg포장, 14kg(2kg X..., 7개         80840      (100g당 577원)   \n",
       "\n",
       "   unit  unit_price  \n",
       "0   100       550.0  \n",
       "1   100       772.0  \n",
       "2   100       803.0  \n",
       "3   100       606.0  \n",
       "4   100       577.0  "
      ]
     },
     "execution_count": 391,
     "metadata": {},
     "output_type": "execute_result"
    }
   ],
   "source": [
    "df_2.head()"
   ]
  },
  {
   "cell_type": "markdown",
   "id": "f9b8bf62",
   "metadata": {
    "slideshow": {
     "slide_type": "subslide"
    }
   },
   "source": [
    "### 제품 총 중량 계산 (단위는 kg)"
   ]
  },
  {
   "cell_type": "markdown",
   "id": "18e4b90b",
   "metadata": {},
   "source": [
    "단위 : 단위별 가격 = 총 중량 : 총 가격\n",
    "\n",
    "unit : unit_price = origin_weight : origin_price\n",
    "\n",
    "origin_weight = unit * origin_price / unit_price (g)\n",
    "\n",
    "origin_weight = unit * origin_price / unit_price / 1000 (kg)"
   ]
  },
  {
   "cell_type": "code",
   "execution_count": 392,
   "id": "18e42d3b",
   "metadata": {
    "slideshow": {
     "slide_type": "subslide"
    }
   },
   "outputs": [],
   "source": [
    "df_2['origin_weight'] = round((df_2['unit'] * df_2['origin_price']) / df_2['unit_price'] / 1000).astype(int)"
   ]
  },
  {
   "cell_type": "code",
   "execution_count": 394,
   "id": "ef613d54",
   "metadata": {
    "slideshow": {
     "slide_type": "subslide"
    }
   },
   "outputs": [
    {
     "data": {
      "text/html": [
       "<div>\n",
       "<style scoped>\n",
       "    .dataframe tbody tr th:only-of-type {\n",
       "        vertical-align: middle;\n",
       "    }\n",
       "\n",
       "    .dataframe tbody tr th {\n",
       "        vertical-align: top;\n",
       "    }\n",
       "\n",
       "    .dataframe thead th {\n",
       "        text-align: right;\n",
       "    }\n",
       "</style>\n",
       "<table border=\"1\" class=\"dataframe\">\n",
       "  <thead>\n",
       "    <tr style=\"text-align: right;\">\n",
       "      <th></th>\n",
       "      <th>title</th>\n",
       "      <th>origin_weight</th>\n",
       "      <th>origin_unit_price</th>\n",
       "      <th>unit_price</th>\n",
       "    </tr>\n",
       "  </thead>\n",
       "  <tbody>\n",
       "    <tr>\n",
       "      <th>0</th>\n",
       "      <td>국내산 닭가슴살 10kg. 1kg x 10 냉장</td>\n",
       "      <td>10</td>\n",
       "      <td>(100g당 550원)</td>\n",
       "      <td>550.0</td>\n",
       "    </tr>\n",
       "    <tr>\n",
       "      <th>1</th>\n",
       "      <td>올품 IQF 닭가슴살 1kg x 5봉, 1kg, 5개</td>\n",
       "      <td>5</td>\n",
       "      <td>(100g당 772원)</td>\n",
       "      <td>772.0</td>\n",
       "    </tr>\n",
       "    <tr>\n",
       "      <th>2</th>\n",
       "      <td>한강식품 IQF 무항생제 닭가슴살 (냉동), 1kg, 5개</td>\n",
       "      <td>5</td>\n",
       "      <td>(100g당 803원)</td>\n",
       "      <td>803.0</td>\n",
       "    </tr>\n",
       "    <tr>\n",
       "      <th>3</th>\n",
       "      <td>브린 껍질없는 닭가슴살, 5kg, 1개</td>\n",
       "      <td>5</td>\n",
       "      <td>(100g당 606원)</td>\n",
       "      <td>606.0</td>\n",
       "    </tr>\n",
       "    <tr>\n",
       "      <th>4</th>\n",
       "      <td>사계림 국내산 냉장 생닭가슴살 2kg포장, 14kg(2kg X..., 7개</td>\n",
       "      <td>14</td>\n",
       "      <td>(100g당 577원)</td>\n",
       "      <td>577.0</td>\n",
       "    </tr>\n",
       "  </tbody>\n",
       "</table>\n",
       "</div>"
      ],
      "text/plain": [
       "                                       title  origin_weight origin_unit_price  \\\n",
       "0                 국내산 닭가슴살 10kg. 1kg x 10 냉장             10      (100g당 550원)   \n",
       "1              올품 IQF 닭가슴살 1kg x 5봉, 1kg, 5개              5      (100g당 772원)   \n",
       "2           한강식품 IQF 무항생제 닭가슴살 (냉동), 1kg, 5개              5      (100g당 803원)   \n",
       "3                      브린 껍질없는 닭가슴살, 5kg, 1개              5      (100g당 606원)   \n",
       "4  사계림 국내산 냉장 생닭가슴살 2kg포장, 14kg(2kg X..., 7개             14      (100g당 577원)   \n",
       "\n",
       "   unit_price  \n",
       "0       550.0  \n",
       "1       772.0  \n",
       "2       803.0  \n",
       "3       606.0  \n",
       "4       577.0  "
      ]
     },
     "execution_count": 394,
     "metadata": {},
     "output_type": "execute_result"
    }
   ],
   "source": [
    "df_2[[\"title\", \"origin_weight\", \"origin_unit_price\",\"unit_price\"]].head()"
   ]
  },
  {
   "cell_type": "markdown",
   "metadata": {},
   "source": [
    "### `2_2 가설 시각화 및 결과 해석`"
   ]
  },
  {
   "cell_type": "code",
   "execution_count": 395,
   "id": "dfb1dc04",
   "metadata": {},
   "outputs": [],
   "source": [
    "df_2=df_2[['origin_weight', 'unit_price']]"
   ]
  },
  {
   "cell_type": "code",
   "execution_count": 400,
   "id": "c9b0b416",
   "metadata": {
    "slideshow": {
     "slide_type": "slide"
    }
   },
   "outputs": [
    {
     "data": {
      "image/png": "[encoded data removed]",
      "text/plain": [
       "<Figure size 640x480 with 1 Axes>"
      ]
     },
     "metadata": {},
     "output_type": "display_data"
    }
   ],
   "source": [
    "import matplotlib.pyplot as plt\n",
    "\n",
    "plt.scatter(df_2['origin_weight'], df_2['unit_price'])\n",
    "plt.ylim([0, 10000])\n",
    "plt.xlim([-1, 30])\n",
    "plt.xlabel('제품 총 중량 (kg)')\n",
    "plt.ylabel('100g 당 가격')\n",
    "plt.title('제품 총 중량과 100g 당 가격의 관계')\n",
    "plt.show()"
   ]
  },
  {
   "cell_type": "markdown",
   "id": "25e7c2d6",
   "metadata": {
    "slideshow": {
     "slide_type": "subslide"
    }
   },
   "source": [
    "미약하지만, 제품 총 중량이 높을 수록, 100g 당 가격이 낮은 경향이 있다."
   ]
  },
  {
   "cell_type": "markdown",
   "id": "0ba29904",
   "metadata": {},
   "source": [
    "### `2_2 가설 통계 지표 및 결과 해석`"
   ]
  },
  {
   "cell_type": "code",
   "execution_count": 401,
   "id": "faa25c42",
   "metadata": {
    "slideshow": {
     "slide_type": "slide"
    }
   },
   "outputs": [],
   "source": [
    "# 총 중량 기준으로 오름차순 정렬\n",
    "df_2=df_2.sort_values(by=\"origin_weight\")\n",
    "# 전체 데이터를 3등분\n",
    "group_num=int(len(df_2)//3)\n",
    "group_1=df_2.iloc[:group_num]\n",
    "group_2=df_2.iloc[group_num:group_num*2]\n",
    "group_3=df_2.iloc[group_num*2:]"
   ]
  },
  {
   "cell_type": "code",
   "execution_count": 402,
   "id": "67e8cca6",
   "metadata": {},
   "outputs": [
    {
     "data": {
      "text/html": [
       "<div>\n",
       "<style scoped>\n",
       "    .dataframe tbody tr th:only-of-type {\n",
       "        vertical-align: middle;\n",
       "    }\n",
       "\n",
       "    .dataframe tbody tr th {\n",
       "        vertical-align: top;\n",
       "    }\n",
       "\n",
       "    .dataframe thead th {\n",
       "        text-align: right;\n",
       "    }\n",
       "</style>\n",
       "<table border=\"1\" class=\"dataframe\">\n",
       "  <thead>\n",
       "    <tr style=\"text-align: right;\">\n",
       "      <th></th>\n",
       "      <th>origin_weight</th>\n",
       "      <th>unit_price</th>\n",
       "    </tr>\n",
       "  </thead>\n",
       "  <tbody>\n",
       "    <tr>\n",
       "      <th>112</th>\n",
       "      <td>0</td>\n",
       "      <td>27900.0</td>\n",
       "    </tr>\n",
       "    <tr>\n",
       "      <th>136</th>\n",
       "      <td>0</td>\n",
       "      <td>4277.0</td>\n",
       "    </tr>\n",
       "    <tr>\n",
       "      <th>29</th>\n",
       "      <td>0</td>\n",
       "      <td>1508.0</td>\n",
       "    </tr>\n",
       "    <tr>\n",
       "      <th>123</th>\n",
       "      <td>0</td>\n",
       "      <td>1975.0</td>\n",
       "    </tr>\n",
       "    <tr>\n",
       "      <th>27</th>\n",
       "      <td>1</td>\n",
       "      <td>880.0</td>\n",
       "    </tr>\n",
       "    <tr>\n",
       "      <th>...</th>\n",
       "      <td>...</td>\n",
       "      <td>...</td>\n",
       "    </tr>\n",
       "    <tr>\n",
       "      <th>126</th>\n",
       "      <td>10</td>\n",
       "      <td>590.0</td>\n",
       "    </tr>\n",
       "    <tr>\n",
       "      <th>0</th>\n",
       "      <td>10</td>\n",
       "      <td>550.0</td>\n",
       "    </tr>\n",
       "    <tr>\n",
       "      <th>4</th>\n",
       "      <td>14</td>\n",
       "      <td>577.0</td>\n",
       "    </tr>\n",
       "    <tr>\n",
       "      <th>104</th>\n",
       "      <td>20</td>\n",
       "      <td>574.0</td>\n",
       "    </tr>\n",
       "    <tr>\n",
       "      <th>83</th>\n",
       "      <td>60</td>\n",
       "      <td>73.0</td>\n",
       "    </tr>\n",
       "  </tbody>\n",
       "</table>\n",
       "<p>139 rows × 2 columns</p>\n",
       "</div>"
      ],
      "text/plain": [
       "     origin_weight  unit_price\n",
       "112              0     27900.0\n",
       "136              0      4277.0\n",
       "29               0      1508.0\n",
       "123              0      1975.0\n",
       "27               1       880.0\n",
       "..             ...         ...\n",
       "126             10       590.0\n",
       "0               10       550.0\n",
       "4               14       577.0\n",
       "104             20       574.0\n",
       "83              60        73.0\n",
       "\n",
       "[139 rows x 2 columns]"
      ]
     },
     "execution_count": 402,
     "metadata": {},
     "output_type": "execute_result"
    }
   ],
   "source": [
    "df_2"
   ]
  },
  {
   "cell_type": "code",
   "execution_count": 403,
   "id": "f9766d59",
   "metadata": {
    "slideshow": {
     "slide_type": "subslide"
    }
   },
   "outputs": [
    {
     "data": {
      "text/html": [
       "<div>\n",
       "<style scoped>\n",
       "    .dataframe tbody tr th:only-of-type {\n",
       "        vertical-align: middle;\n",
       "    }\n",
       "\n",
       "    .dataframe tbody tr th {\n",
       "        vertical-align: top;\n",
       "    }\n",
       "\n",
       "    .dataframe thead th {\n",
       "        text-align: right;\n",
       "    }\n",
       "</style>\n",
       "<table border=\"1\" class=\"dataframe\">\n",
       "  <thead>\n",
       "    <tr style=\"text-align: right;\">\n",
       "      <th></th>\n",
       "      <th>origin_weight</th>\n",
       "      <th>unit_price</th>\n",
       "    </tr>\n",
       "  </thead>\n",
       "  <tbody>\n",
       "    <tr>\n",
       "      <th>count</th>\n",
       "      <td>46.000000</td>\n",
       "      <td>46.000000</td>\n",
       "    </tr>\n",
       "    <tr>\n",
       "      <th>mean</th>\n",
       "      <td>1.521739</td>\n",
       "      <td>1871.130435</td>\n",
       "    </tr>\n",
       "    <tr>\n",
       "      <th>std</th>\n",
       "      <td>0.657914</td>\n",
       "      <td>4017.923148</td>\n",
       "    </tr>\n",
       "    <tr>\n",
       "      <th>min</th>\n",
       "      <td>0.000000</td>\n",
       "      <td>695.000000</td>\n",
       "    </tr>\n",
       "    <tr>\n",
       "      <th>25%</th>\n",
       "      <td>1.000000</td>\n",
       "      <td>895.750000</td>\n",
       "    </tr>\n",
       "    <tr>\n",
       "      <th>50%</th>\n",
       "      <td>2.000000</td>\n",
       "      <td>1086.000000</td>\n",
       "    </tr>\n",
       "    <tr>\n",
       "      <th>75%</th>\n",
       "      <td>2.000000</td>\n",
       "      <td>1354.500000</td>\n",
       "    </tr>\n",
       "    <tr>\n",
       "      <th>max</th>\n",
       "      <td>2.000000</td>\n",
       "      <td>27900.000000</td>\n",
       "    </tr>\n",
       "  </tbody>\n",
       "</table>\n",
       "</div>"
      ],
      "text/plain": [
       "       origin_weight    unit_price\n",
       "count      46.000000     46.000000\n",
       "mean        1.521739   1871.130435\n",
       "std         0.657914   4017.923148\n",
       "min         0.000000    695.000000\n",
       "25%         1.000000    895.750000\n",
       "50%         2.000000   1086.000000\n",
       "75%         2.000000   1354.500000\n",
       "max         2.000000  27900.000000"
      ]
     },
     "execution_count": 403,
     "metadata": {},
     "output_type": "execute_result"
    }
   ],
   "source": [
    "group_1.describe()"
   ]
  },
  {
   "cell_type": "code",
   "execution_count": 404,
   "id": "e2a3a4e3",
   "metadata": {
    "slideshow": {
     "slide_type": "subslide"
    }
   },
   "outputs": [
    {
     "data": {
      "text/html": [
       "<div>\n",
       "<style scoped>\n",
       "    .dataframe tbody tr th:only-of-type {\n",
       "        vertical-align: middle;\n",
       "    }\n",
       "\n",
       "    .dataframe tbody tr th {\n",
       "        vertical-align: top;\n",
       "    }\n",
       "\n",
       "    .dataframe thead th {\n",
       "        text-align: right;\n",
       "    }\n",
       "</style>\n",
       "<table border=\"1\" class=\"dataframe\">\n",
       "  <thead>\n",
       "    <tr style=\"text-align: right;\">\n",
       "      <th></th>\n",
       "      <th>origin_weight</th>\n",
       "      <th>unit_price</th>\n",
       "    </tr>\n",
       "  </thead>\n",
       "  <tbody>\n",
       "    <tr>\n",
       "      <th>count</th>\n",
       "      <td>46.000000</td>\n",
       "      <td>46.000000</td>\n",
       "    </tr>\n",
       "    <tr>\n",
       "      <th>mean</th>\n",
       "      <td>3.347826</td>\n",
       "      <td>962.282609</td>\n",
       "    </tr>\n",
       "    <tr>\n",
       "      <th>std</th>\n",
       "      <td>0.971079</td>\n",
       "      <td>215.878326</td>\n",
       "    </tr>\n",
       "    <tr>\n",
       "      <th>min</th>\n",
       "      <td>2.000000</td>\n",
       "      <td>600.000000</td>\n",
       "    </tr>\n",
       "    <tr>\n",
       "      <th>25%</th>\n",
       "      <td>3.000000</td>\n",
       "      <td>851.000000</td>\n",
       "    </tr>\n",
       "    <tr>\n",
       "      <th>50%</th>\n",
       "      <td>3.000000</td>\n",
       "      <td>919.000000</td>\n",
       "    </tr>\n",
       "    <tr>\n",
       "      <th>75%</th>\n",
       "      <td>4.000000</td>\n",
       "      <td>1044.750000</td>\n",
       "    </tr>\n",
       "    <tr>\n",
       "      <th>max</th>\n",
       "      <td>5.000000</td>\n",
       "      <td>1523.000000</td>\n",
       "    </tr>\n",
       "  </tbody>\n",
       "</table>\n",
       "</div>"
      ],
      "text/plain": [
       "       origin_weight   unit_price\n",
       "count      46.000000    46.000000\n",
       "mean        3.347826   962.282609\n",
       "std         0.971079   215.878326\n",
       "min         2.000000   600.000000\n",
       "25%         3.000000   851.000000\n",
       "50%         3.000000   919.000000\n",
       "75%         4.000000  1044.750000\n",
       "max         5.000000  1523.000000"
      ]
     },
     "execution_count": 404,
     "metadata": {},
     "output_type": "execute_result"
    }
   ],
   "source": [
    "group_2.describe()"
   ]
  },
  {
   "cell_type": "code",
   "execution_count": 405,
   "id": "9be63d54",
   "metadata": {
    "slideshow": {
     "slide_type": "subslide"
    }
   },
   "outputs": [
    {
     "data": {
      "text/html": [
       "<div>\n",
       "<style scoped>\n",
       "    .dataframe tbody tr th:only-of-type {\n",
       "        vertical-align: middle;\n",
       "    }\n",
       "\n",
       "    .dataframe tbody tr th {\n",
       "        vertical-align: top;\n",
       "    }\n",
       "\n",
       "    .dataframe thead th {\n",
       "        text-align: right;\n",
       "    }\n",
       "</style>\n",
       "<table border=\"1\" class=\"dataframe\">\n",
       "  <thead>\n",
       "    <tr style=\"text-align: right;\">\n",
       "      <th></th>\n",
       "      <th>origin_weight</th>\n",
       "      <th>unit_price</th>\n",
       "    </tr>\n",
       "  </thead>\n",
       "  <tbody>\n",
       "    <tr>\n",
       "      <th>count</th>\n",
       "      <td>47.000000</td>\n",
       "      <td>47.000000</td>\n",
       "    </tr>\n",
       "    <tr>\n",
       "      <th>mean</th>\n",
       "      <td>8.255319</td>\n",
       "      <td>733.404255</td>\n",
       "    </tr>\n",
       "    <tr>\n",
       "      <th>std</th>\n",
       "      <td>8.326146</td>\n",
       "      <td>224.234220</td>\n",
       "    </tr>\n",
       "    <tr>\n",
       "      <th>min</th>\n",
       "      <td>5.000000</td>\n",
       "      <td>73.000000</td>\n",
       "    </tr>\n",
       "    <tr>\n",
       "      <th>25%</th>\n",
       "      <td>5.000000</td>\n",
       "      <td>590.000000</td>\n",
       "    </tr>\n",
       "    <tr>\n",
       "      <th>50%</th>\n",
       "      <td>5.000000</td>\n",
       "      <td>655.000000</td>\n",
       "    </tr>\n",
       "    <tr>\n",
       "      <th>75%</th>\n",
       "      <td>10.000000</td>\n",
       "      <td>826.500000</td>\n",
       "    </tr>\n",
       "    <tr>\n",
       "      <th>max</th>\n",
       "      <td>60.000000</td>\n",
       "      <td>1538.000000</td>\n",
       "    </tr>\n",
       "  </tbody>\n",
       "</table>\n",
       "</div>"
      ],
      "text/plain": [
       "       origin_weight   unit_price\n",
       "count      47.000000    47.000000\n",
       "mean        8.255319   733.404255\n",
       "std         8.326146   224.234220\n",
       "min         5.000000    73.000000\n",
       "25%         5.000000   590.000000\n",
       "50%         5.000000   655.000000\n",
       "75%        10.000000   826.500000\n",
       "max        60.000000  1538.000000"
      ]
     },
     "execution_count": 405,
     "metadata": {},
     "output_type": "execute_result"
    }
   ],
   "source": [
    "group_3.describe()"
   ]
  },
  {
   "cell_type": "markdown",
   "id": "0457dccf",
   "metadata": {
    "slideshow": {
     "slide_type": "subslide"
    }
   },
   "source": [
    "`group_1 (무게 기준 하위 30%)`\n",
    "\n",
    "제품 별 평균 총 중량 : 1.52 kg\n",
    "\n",
    "제품 별 평균 단위별 가격 : 1871 원\n",
    "\n",
    "`group_2 (무게 기준 중위 30%)`\n",
    "\n",
    "제품 별 평균 총 중량 : 3.34 kg\n",
    "\n",
    "제품 별 평균 단위별 가격 : 962 원\n",
    "\n",
    "`group_3 (무게 기준 상위 30%)`\n",
    "\n",
    "제품 별 평균 총 중량 : 8.25 kg\n",
    "\n",
    "제품 별 평균 단위별 가격 : 733 원"
   ]
  },
  {
   "cell_type": "markdown",
   "id": "6aea76b7",
   "metadata": {
    "slideshow": {
     "slide_type": "subslide"
    }
   },
   "source": [
    "### `그룹별 통계 지표 해석`\n",
    "그룹간 평균 총 중량과 단위별 가격을 확인했을 때, 확실히 총중량이 높을수록 단위별 가격이 낮다는 것을 확인할 수 있다."
   ]
  },
  {
   "cell_type": "markdown",
   "id": "836d73da",
   "metadata": {},
   "source": [
    "---"
   ]
  },
  {
   "cell_type": "markdown",
   "id": "d736a915",
   "metadata": {
    "slideshow": {
     "slide_type": "slide"
    }
   },
   "source": [
    "## 가설 2 최종 결론"
   ]
  },
  {
   "cell_type": "markdown",
   "id": "81f6f1d2",
   "metadata": {
    "slideshow": {
     "slide_type": "subslide"
    }
   },
   "source": [
    "200개 가량의 제품을 분석한 결과, **제품의 총 중량이 높을수록 단위별 가격이 낮아진다는 현상을 발견할 수 있었다.**\n",
    "\n",
    "심지어 총중량이 가장 낮은 그룹 1의 평균 단위 가격은 다음으로 낮은 그룹 2보다 약 2배가량 비싸다. (실제로는 제품의 총중량이 높은 경우에는 생닭가슴살인 경우가 많았던것이 이유임)\n",
    "\n",
    "이는 제조업체에서 대량 생산 시 생기는 생산 비용 절감을 판매 단가를 낮추는데에 사용함으로써 제품의 세일즈 가치를 높이고 있다는 현상을 시사한다."
   ]
  },
  {
   "cell_type": "markdown",
   "id": "76ba7922",
   "metadata": {},
   "source": [
    "---"
   ]
  },
  {
   "cell_type": "markdown",
   "id": "2d7e2426",
   "metadata": {
    "slideshow": {
     "slide_type": "slide"
    }
   },
   "source": [
    "--> 이후 TODO : 그럼 제품의 단위별 가격이 낮을수록 판매량이 높은가?\n",
    "\n",
    "만약 높다고 나오면?\n",
    "\n",
    "--> 규모의 경제 현상 (제품이 많이 팔릴수록 제품 단가가 낮아진다)을 데이터로 확인할 수 있었다."
   ]
  }
 ],
 "metadata": {
  "kernelspec": {
   "display_name": "Python 3 (ipykernel)",
   "language": "python",
   "name": "python3"
  },
  "language_info": {
   "codemirror_mode": {
    "name": "ipython",
    "version": 3
   },
   "file_extension": ".py",
   "mimetype": "text/x-python",
   "name": "python",
   "nbconvert_exporter": "python",
   "pygments_lexer": "ipython3",
   "version": "3.7.16"
  }
 },
 "nbformat": 4,
 "nbformat_minor": 5
}
